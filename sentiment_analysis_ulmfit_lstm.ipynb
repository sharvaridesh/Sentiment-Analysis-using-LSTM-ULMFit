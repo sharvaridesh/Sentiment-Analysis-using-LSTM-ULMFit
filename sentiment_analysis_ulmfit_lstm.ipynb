{
 "cells": [
  {
   "cell_type": "code",
   "execution_count": 1,
   "metadata": {
    "_cell_guid": "b1076dfc-b9ad-4769-8c92-a6c4dae69d19",
    "_uuid": "8f2839f25d086af736a60e9eeb907d3b93b6e0e5"
   },
   "outputs": [
    {
     "name": "stdout",
     "output_type": "stream",
     "text": [
      "['database.sqlite', 'Tweets.csv']\n"
     ]
    }
   ],
   "source": [
    "# This Python 3 environment comes with many helpful analytics libraries installed\n",
    "# It is defined by the kaggle/python docker image: https://github.com/kaggle/docker-python\n",
    "# For example, here's several helpful packages to load in \n",
    "\n",
    "# Input data files are available in the \"../input/\" directory.\n",
    "# For example, running this (by clicking run or pressing Shift+Enter) will list the files in the input directory\n",
    "\n",
    "import os\n",
    "print(os.listdir(\"../input\"))\n",
    "\n",
    "# Any results you write to the current directory are saved as output.\n"
   ]
  },
  {
   "cell_type": "code",
   "execution_count": 2,
   "metadata": {
    "_cell_guid": "79c7e3d0-c299-4dcb-8224-4455121ee9b0",
    "_uuid": "d629ff2d2480ee46fbb7e2d37f6b5fab8052498a"
   },
   "outputs": [
    {
     "name": "stderr",
     "output_type": "stream",
     "text": [
      "Using TensorFlow backend.\n"
     ]
    }
   ],
   "source": [
    "import os\n",
    "\n",
    "# Time\n",
    "import time\n",
    "import datetime\n",
    "\n",
    "# Numerical\n",
    "import numpy as np\n",
    "import pandas as pd\n",
    "\n",
    "# Tools\n",
    "import itertools\n",
    "from collections import Counter\n",
    "\n",
    "# NLP\n",
    "import re\n",
    "import nltk\n",
    "from nltk.corpus import stopwords\n",
    "\n",
    "# Preprocessing\n",
    "from sklearn import preprocessing\n",
    "from sklearn.utils import class_weight as cw\n",
    "from sklearn.feature_extraction.text import CountVectorizer\n",
    "from sklearn.preprocessing import LabelEncoder\n",
    "from sklearn.model_selection import train_test_split\n",
    "\n",
    "# Model Selection\n",
    "from sklearn.model_selection import train_test_split\n",
    "\n",
    "# Evaluation Metrics\n",
    "from sklearn import metrics \n",
    "from sklearn.metrics import f1_score, accuracy_score,confusion_matrix,classification_report\n",
    "\n",
    "# Deep Learing Preprocessing - Keras\n",
    "from keras.preprocessing.text import Tokenizer\n",
    "from keras.preprocessing import sequence\n",
    "from keras.utils import to_categorical\n",
    "\n",
    "# Deep Learning Model - Keras\n",
    "from keras.models import Model\n",
    "from keras.models import Sequential\n",
    "\n",
    "from keras.layers import Dense, Embedding\n",
    "from keras.models import Sequential\n",
    "\n",
    "# Deep Learning Model - Keras - RNN\n",
    "from keras.layers import Embedding, LSTM, Bidirectional\n",
    "\n",
    "# Deep Learning Model - Keras - General\n",
    "from keras.layers import Input, Add, concatenate, Dense, Activation, BatchNormalization, Dropout, Flatten\n",
    "from keras.layers import LeakyReLU, PReLU, Lambda, Multiply\n",
    "\n",
    "from keras.preprocessing import sequence\n",
    "from keras import regularizers\n",
    "\n",
    "# Deep Learning Parameters - Keras\n",
    "from keras.optimizers import RMSprop, Adam\n",
    "\n",
    "# Visualization\n",
    "import matplotlib.pyplot as plt\n",
    "import seaborn as sns\n",
    "\n",
    "from fastai.imports import *\n",
    "from fastai.text import *"
   ]
  },
  {
   "cell_type": "code",
   "execution_count": 3,
   "metadata": {},
   "outputs": [],
   "source": [
    "path = Path(os.path.abspath(os.curdir))"
   ]
  },
  {
   "cell_type": "code",
   "execution_count": 4,
   "metadata": {},
   "outputs": [
    {
     "data": {
      "text/html": [
       "<div>\n",
       "<style scoped>\n",
       "    .dataframe tbody tr th:only-of-type {\n",
       "        vertical-align: middle;\n",
       "    }\n",
       "\n",
       "    .dataframe tbody tr th {\n",
       "        vertical-align: top;\n",
       "    }\n",
       "\n",
       "    .dataframe thead th {\n",
       "        text-align: right;\n",
       "    }\n",
       "</style>\n",
       "<table border=\"1\" class=\"dataframe\">\n",
       "  <thead>\n",
       "    <tr style=\"text-align: right;\">\n",
       "      <th></th>\n",
       "      <th>tweet_id</th>\n",
       "      <th>airline_sentiment</th>\n",
       "      <th>airline_sentiment_confidence</th>\n",
       "      <th>negativereason</th>\n",
       "      <th>negativereason_confidence</th>\n",
       "      <th>airline</th>\n",
       "      <th>airline_sentiment_gold</th>\n",
       "      <th>name</th>\n",
       "      <th>negativereason_gold</th>\n",
       "      <th>retweet_count</th>\n",
       "      <th>text</th>\n",
       "      <th>tweet_coord</th>\n",
       "      <th>tweet_created</th>\n",
       "      <th>tweet_location</th>\n",
       "      <th>user_timezone</th>\n",
       "    </tr>\n",
       "  </thead>\n",
       "  <tbody>\n",
       "    <tr>\n",
       "      <th>0</th>\n",
       "      <td>570306133677760513</td>\n",
       "      <td>neutral</td>\n",
       "      <td>1.0000</td>\n",
       "      <td>NaN</td>\n",
       "      <td>NaN</td>\n",
       "      <td>Virgin America</td>\n",
       "      <td>NaN</td>\n",
       "      <td>cairdin</td>\n",
       "      <td>NaN</td>\n",
       "      <td>0</td>\n",
       "      <td>@VirginAmerica What @dhepburn said.</td>\n",
       "      <td>NaN</td>\n",
       "      <td>2015-02-24 11:35:52 -0800</td>\n",
       "      <td>NaN</td>\n",
       "      <td>Eastern Time (US &amp; Canada)</td>\n",
       "    </tr>\n",
       "    <tr>\n",
       "      <th>1</th>\n",
       "      <td>570301130888122368</td>\n",
       "      <td>positive</td>\n",
       "      <td>0.3486</td>\n",
       "      <td>NaN</td>\n",
       "      <td>0.0000</td>\n",
       "      <td>Virgin America</td>\n",
       "      <td>NaN</td>\n",
       "      <td>jnardino</td>\n",
       "      <td>NaN</td>\n",
       "      <td>0</td>\n",
       "      <td>@VirginAmerica plus you've added commercials t...</td>\n",
       "      <td>NaN</td>\n",
       "      <td>2015-02-24 11:15:59 -0800</td>\n",
       "      <td>NaN</td>\n",
       "      <td>Pacific Time (US &amp; Canada)</td>\n",
       "    </tr>\n",
       "    <tr>\n",
       "      <th>2</th>\n",
       "      <td>570301083672813571</td>\n",
       "      <td>neutral</td>\n",
       "      <td>0.6837</td>\n",
       "      <td>NaN</td>\n",
       "      <td>NaN</td>\n",
       "      <td>Virgin America</td>\n",
       "      <td>NaN</td>\n",
       "      <td>yvonnalynn</td>\n",
       "      <td>NaN</td>\n",
       "      <td>0</td>\n",
       "      <td>@VirginAmerica I didn't today... Must mean I n...</td>\n",
       "      <td>NaN</td>\n",
       "      <td>2015-02-24 11:15:48 -0800</td>\n",
       "      <td>Lets Play</td>\n",
       "      <td>Central Time (US &amp; Canada)</td>\n",
       "    </tr>\n",
       "    <tr>\n",
       "      <th>3</th>\n",
       "      <td>570301031407624196</td>\n",
       "      <td>negative</td>\n",
       "      <td>1.0000</td>\n",
       "      <td>Bad Flight</td>\n",
       "      <td>0.7033</td>\n",
       "      <td>Virgin America</td>\n",
       "      <td>NaN</td>\n",
       "      <td>jnardino</td>\n",
       "      <td>NaN</td>\n",
       "      <td>0</td>\n",
       "      <td>@VirginAmerica it's really aggressive to blast...</td>\n",
       "      <td>NaN</td>\n",
       "      <td>2015-02-24 11:15:36 -0800</td>\n",
       "      <td>NaN</td>\n",
       "      <td>Pacific Time (US &amp; Canada)</td>\n",
       "    </tr>\n",
       "    <tr>\n",
       "      <th>4</th>\n",
       "      <td>570300817074462722</td>\n",
       "      <td>negative</td>\n",
       "      <td>1.0000</td>\n",
       "      <td>Can't Tell</td>\n",
       "      <td>1.0000</td>\n",
       "      <td>Virgin America</td>\n",
       "      <td>NaN</td>\n",
       "      <td>jnardino</td>\n",
       "      <td>NaN</td>\n",
       "      <td>0</td>\n",
       "      <td>@VirginAmerica and it's a really big bad thing...</td>\n",
       "      <td>NaN</td>\n",
       "      <td>2015-02-24 11:14:45 -0800</td>\n",
       "      <td>NaN</td>\n",
       "      <td>Pacific Time (US &amp; Canada)</td>\n",
       "    </tr>\n",
       "  </tbody>\n",
       "</table>\n",
       "</div>"
      ],
      "text/plain": [
       "             tweet_id airline_sentiment  airline_sentiment_confidence  \\\n",
       "0  570306133677760513           neutral                        1.0000   \n",
       "1  570301130888122368          positive                        0.3486   \n",
       "2  570301083672813571           neutral                        0.6837   \n",
       "3  570301031407624196          negative                        1.0000   \n",
       "4  570300817074462722          negative                        1.0000   \n",
       "\n",
       "  negativereason  negativereason_confidence         airline  \\\n",
       "0            NaN                        NaN  Virgin America   \n",
       "1            NaN                     0.0000  Virgin America   \n",
       "2            NaN                        NaN  Virgin America   \n",
       "3     Bad Flight                     0.7033  Virgin America   \n",
       "4     Can't Tell                     1.0000  Virgin America   \n",
       "\n",
       "  airline_sentiment_gold        name negativereason_gold  retweet_count  \\\n",
       "0                    NaN     cairdin                 NaN              0   \n",
       "1                    NaN    jnardino                 NaN              0   \n",
       "2                    NaN  yvonnalynn                 NaN              0   \n",
       "3                    NaN    jnardino                 NaN              0   \n",
       "4                    NaN    jnardino                 NaN              0   \n",
       "\n",
       "                                                text tweet_coord  \\\n",
       "0                @VirginAmerica What @dhepburn said.         NaN   \n",
       "1  @VirginAmerica plus you've added commercials t...         NaN   \n",
       "2  @VirginAmerica I didn't today... Must mean I n...         NaN   \n",
       "3  @VirginAmerica it's really aggressive to blast...         NaN   \n",
       "4  @VirginAmerica and it's a really big bad thing...         NaN   \n",
       "\n",
       "               tweet_created tweet_location               user_timezone  \n",
       "0  2015-02-24 11:35:52 -0800            NaN  Eastern Time (US & Canada)  \n",
       "1  2015-02-24 11:15:59 -0800            NaN  Pacific Time (US & Canada)  \n",
       "2  2015-02-24 11:15:48 -0800      Lets Play  Central Time (US & Canada)  \n",
       "3  2015-02-24 11:15:36 -0800            NaN  Pacific Time (US & Canada)  \n",
       "4  2015-02-24 11:14:45 -0800            NaN  Pacific Time (US & Canada)  "
      ]
     },
     "execution_count": 4,
     "metadata": {},
     "output_type": "execute_result"
    }
   ],
   "source": [
    "#File Import\n",
    "filepath = Path('../input')\n",
    "df = pd.read_csv(filepath/'Tweets.csv')\n",
    "df.head()"
   ]
  },
  {
   "cell_type": "code",
   "execution_count": 25,
   "metadata": {},
   "outputs": [
    {
     "data": {
      "text/html": [
       "<div>\n",
       "<style scoped>\n",
       "    .dataframe tbody tr th:only-of-type {\n",
       "        vertical-align: middle;\n",
       "    }\n",
       "\n",
       "    .dataframe tbody tr th {\n",
       "        vertical-align: top;\n",
       "    }\n",
       "\n",
       "    .dataframe thead th {\n",
       "        text-align: right;\n",
       "    }\n",
       "</style>\n",
       "<table border=\"1\" class=\"dataframe\">\n",
       "  <thead>\n",
       "    <tr style=\"text-align: right;\">\n",
       "      <th></th>\n",
       "      <th>text</th>\n",
       "      <th>airline_sentiment</th>\n",
       "    </tr>\n",
       "  </thead>\n",
       "  <tbody>\n",
       "    <tr>\n",
       "      <th>0</th>\n",
       "      <td>@VirginAmerica What @dhepburn said.</td>\n",
       "      <td>neutral</td>\n",
       "    </tr>\n",
       "    <tr>\n",
       "      <th>1</th>\n",
       "      <td>@VirginAmerica plus you've added commercials t...</td>\n",
       "      <td>positive</td>\n",
       "    </tr>\n",
       "    <tr>\n",
       "      <th>2</th>\n",
       "      <td>@VirginAmerica I didn't today... Must mean I n...</td>\n",
       "      <td>neutral</td>\n",
       "    </tr>\n",
       "    <tr>\n",
       "      <th>3</th>\n",
       "      <td>@VirginAmerica it's really aggressive to blast...</td>\n",
       "      <td>negative</td>\n",
       "    </tr>\n",
       "    <tr>\n",
       "      <th>4</th>\n",
       "      <td>@VirginAmerica and it's a really big bad thing...</td>\n",
       "      <td>negative</td>\n",
       "    </tr>\n",
       "  </tbody>\n",
       "</table>\n",
       "</div>"
      ],
      "text/plain": [
       "                                                text airline_sentiment\n",
       "0                @VirginAmerica What @dhepburn said.           neutral\n",
       "1  @VirginAmerica plus you've added commercials t...          positive\n",
       "2  @VirginAmerica I didn't today... Must mean I n...           neutral\n",
       "3  @VirginAmerica it's really aggressive to blast...          negative\n",
       "4  @VirginAmerica and it's a really big bad thing...          negative"
      ]
     },
     "execution_count": 25,
     "metadata": {},
     "output_type": "execute_result"
    }
   ],
   "source": [
    "df_dplr = df[['text','airline_sentiment']]\n",
    "df_dplr.head()"
   ]
  },
  {
   "cell_type": "code",
   "execution_count": 26,
   "metadata": {},
   "outputs": [
    {
     "data": {
      "text/html": [
       "<div>\n",
       "<style scoped>\n",
       "    .dataframe tbody tr th:only-of-type {\n",
       "        vertical-align: middle;\n",
       "    }\n",
       "\n",
       "    .dataframe tbody tr th {\n",
       "        vertical-align: top;\n",
       "    }\n",
       "\n",
       "    .dataframe thead th {\n",
       "        text-align: right;\n",
       "    }\n",
       "</style>\n",
       "<table border=\"1\" class=\"dataframe\">\n",
       "  <thead>\n",
       "    <tr style=\"text-align: right;\">\n",
       "      <th></th>\n",
       "      <th>text</th>\n",
       "      <th>airline_sentiment</th>\n",
       "    </tr>\n",
       "  </thead>\n",
       "  <tbody>\n",
       "    <tr>\n",
       "      <th>4162</th>\n",
       "      <td>@united can't believe United can't find someon...</td>\n",
       "      <td>negative</td>\n",
       "    </tr>\n",
       "    <tr>\n",
       "      <th>2567</th>\n",
       "      <td>@united on a flight to New York! Love the qual...</td>\n",
       "      <td>negative</td>\n",
       "    </tr>\n",
       "    <tr>\n",
       "      <th>8339</th>\n",
       "      <td>@JetBlue i am sharing it to the public. I fly ...</td>\n",
       "      <td>negative</td>\n",
       "    </tr>\n",
       "    <tr>\n",
       "      <th>3674</th>\n",
       "      <td>@united @parryaftab done thnx</td>\n",
       "      <td>positive</td>\n",
       "    </tr>\n",
       "    <tr>\n",
       "      <th>4645</th>\n",
       "      <td>@SouthwestAir Thanks for getting us to paradis...</td>\n",
       "      <td>positive</td>\n",
       "    </tr>\n",
       "  </tbody>\n",
       "</table>\n",
       "</div>"
      ],
      "text/plain": [
       "                                                   text airline_sentiment\n",
       "4162  @united can't believe United can't find someon...          negative\n",
       "2567  @united on a flight to New York! Love the qual...          negative\n",
       "8339  @JetBlue i am sharing it to the public. I fly ...          negative\n",
       "3674                      @united @parryaftab done thnx          positive\n",
       "4645  @SouthwestAir Thanks for getting us to paradis...          positive"
      ]
     },
     "execution_count": 26,
     "metadata": {},
     "output_type": "execute_result"
    }
   ],
   "source": [
    "df_dplr = df_dplr.reindex(np.random.permutation(df_dplr.index))\n",
    "df_dplr.head()"
   ]
  },
  {
   "cell_type": "code",
   "execution_count": 27,
   "metadata": {},
   "outputs": [],
   "source": [
    "#Text Pre-processing\n",
    "def text_cleaning(tweet):\n",
    "    letters = re.sub(\"[^a-zA-Z]\",\" \",tweet)\n",
    "    ht = re.sub(r'http\\S+', '',letters)\n",
    "    mention = re.sub(r'@\\w+', '', ht)\n",
    "    p = re.sub(r'[^\\w\\s]','',mention)\n",
    "    words = p.lower().split()\n",
    "    stops = set(stopwords.words(\"english\"))\n",
    "    meaningful_words = [w for w in words if not w in stops]\n",
    "    return( \" \".join(meaningful_words))\n",
    "df_dplr['text_clean']=df_dplr['text'].apply(lambda x: text_cleaning(x))"
   ]
  },
  {
   "cell_type": "code",
   "execution_count": 28,
   "metadata": {},
   "outputs": [],
   "source": [
    "Y = df_dplr['airline_sentiment']\n",
    "lenc = LabelEncoder()\n",
    "Y = lenc.fit_transform(Y)\n",
    "Y = to_categorical(Y)"
   ]
  },
  {
   "cell_type": "code",
   "execution_count": 29,
   "metadata": {},
   "outputs": [],
   "source": [
    "#Train-test split\n",
    "X_train, X_test, Y_train, Y_test = train_test_split(df_dplr['text_clean'], Y, test_size=0.2,random_state=37)"
   ]
  },
  {
   "cell_type": "code",
   "execution_count": 30,
   "metadata": {},
   "outputs": [
    {
     "data": {
      "text/plain": [
       "(11926, 142)"
      ]
     },
     "execution_count": 30,
     "metadata": {},
     "output_type": "execute_result"
    }
   ],
   "source": [
    "max_words = len(set(\" \".join(X_train).split()))\n",
    "max_len = X_train.apply(lambda x: len(x)).max()\n",
    "max_words, max_len"
   ]
  },
  {
   "cell_type": "code",
   "execution_count": 31,
   "metadata": {},
   "outputs": [],
   "source": [
    "from keras.preprocessing.text import Tokenizer\n",
    "\n",
    "#Tokenizer \n",
    "tk = Tokenizer(num_words=max_words)\n",
    "tk.fit_on_texts(X_train)\n",
    "X_train_tk = tk.texts_to_sequences(X_train)\n",
    "X_test_tk = tk.texts_to_sequences(X_test)"
   ]
  },
  {
   "cell_type": "code",
   "execution_count": 32,
   "metadata": {},
   "outputs": [],
   "source": [
    "#Padding sequences\n",
    "X_train_pad = sequence.pad_sequences(X_train_tk, maxlen=max_len)\n",
    "X_test_pad = sequence.pad_sequences(X_test_tk, maxlen = max_len)"
   ]
  },
  {
   "cell_type": "code",
   "execution_count": 33,
   "metadata": {},
   "outputs": [],
   "source": [
    "num_classes = 3"
   ]
  },
  {
   "cell_type": "code",
   "execution_count": 34,
   "metadata": {},
   "outputs": [
    {
     "name": "stdout",
     "output_type": "stream",
     "text": [
      "[0.75 1.5 ]\n"
     ]
    }
   ],
   "source": [
    "#Class weights Implementation for unbalanced dataset\n",
    "def get_weight(y):\n",
    "    class_weight_current =  cw.compute_class_weight('balanced', np.unique(y), y)\n",
    "    return class_weight_current\n",
    "class_weight = get_weight(Y_train.flatten())\n",
    "print(class_weight)"
   ]
  },
  {
   "cell_type": "code",
   "execution_count": 35,
   "metadata": {},
   "outputs": [],
   "source": [
    "def deep_lr_model(model):\n",
    "    batch_size = 256\n",
    "    epochs = 10\n",
    "    optimizers = Adam(0.03)\n",
    "    model.compile(optimizer='adam', loss='categorical_crossentropy', metrics=['accuracy'])\n",
    "    history = model.fit(X_train_pad, Y_train, epochs=epochs, batch_size=batch_size, validation_data=(X_test_pad,Y_test), verbose=1,class_weight=class_weight)\n",
    "    return history"
   ]
  },
  {
   "cell_type": "code",
   "execution_count": 36,
   "metadata": {},
   "outputs": [
    {
     "name": "stdout",
     "output_type": "stream",
     "text": [
      "_________________________________________________________________\n",
      "Layer (type)                 Output Shape              Param #   \n",
      "=================================================================\n",
      "embedding_1 (Embedding)      (None, 142, 128)          1526528   \n",
      "_________________________________________________________________\n",
      "lstm_1 (LSTM)                (None, 128)               131584    \n",
      "_________________________________________________________________\n",
      "dense_1 (Dense)              (None, 3)                 387       \n",
      "=================================================================\n",
      "Total params: 1,658,499\n",
      "Trainable params: 1,658,499\n",
      "Non-trainable params: 0\n",
      "_________________________________________________________________\n"
     ]
    }
   ],
   "source": [
    "#base model\n",
    "model = Sequential()\n",
    "model.add(Embedding(max_words,128,input_length=max_len))\n",
    "model.add(LSTM(128))\n",
    "model.add(Dense(num_classes, activation='sigmoid'))\n",
    "model.summary()"
   ]
  },
  {
   "cell_type": "code",
   "execution_count": 37,
   "metadata": {},
   "outputs": [
    {
     "name": "stdout",
     "output_type": "stream",
     "text": [
      "Train on 11712 samples, validate on 2928 samples\n",
      "Epoch 1/10\n",
      "11712/11712 [==============================] - 15s 1ms/step - loss: 0.9352 - acc: 0.6214 - val_loss: 0.8406 - val_acc: 0.6233\n",
      "Epoch 2/10\n",
      "11712/11712 [==============================] - 14s 1ms/step - loss: 0.6904 - acc: 0.7009 - val_loss: 0.6210 - val_acc: 0.7497\n",
      "Epoch 3/10\n",
      "11712/11712 [==============================] - 14s 1ms/step - loss: 0.4469 - acc: 0.8296 - val_loss: 0.5766 - val_acc: 0.7650\n",
      "Epoch 4/10\n",
      "11712/11712 [==============================] - 14s 1ms/step - loss: 0.3119 - acc: 0.8889 - val_loss: 0.6022 - val_acc: 0.7828\n",
      "Epoch 5/10\n",
      "11712/11712 [==============================] - 15s 1ms/step - loss: 0.2273 - acc: 0.9200 - val_loss: 0.6560 - val_acc: 0.7783\n",
      "Epoch 6/10\n",
      "11712/11712 [==============================] - 14s 1ms/step - loss: 0.1692 - acc: 0.9440 - val_loss: 0.7130 - val_acc: 0.7783\n",
      "Epoch 7/10\n",
      "11712/11712 [==============================] - 14s 1ms/step - loss: 0.1406 - acc: 0.9538 - val_loss: 0.7751 - val_acc: 0.7698\n",
      "Epoch 8/10\n",
      "11712/11712 [==============================] - 14s 1ms/step - loss: 0.1155 - acc: 0.9628 - val_loss: 0.8466 - val_acc: 0.7486\n",
      "Epoch 9/10\n",
      "11712/11712 [==============================] - 14s 1ms/step - loss: 0.0949 - acc: 0.9696 - val_loss: 0.9122 - val_acc: 0.7602\n",
      "Epoch 10/10\n",
      "11712/11712 [==============================] - 14s 1ms/step - loss: 0.0855 - acc: 0.9729 - val_loss: 0.9781 - val_acc: 0.7514\n"
     ]
    },
    {
     "data": {
      "text/plain": [
       "<keras.callbacks.History at 0x7fcbab3d9358>"
      ]
     },
     "execution_count": 37,
     "metadata": {},
     "output_type": "execute_result"
    }
   ],
   "source": [
    "deep_lr_model(model)"
   ]
  },
  {
   "cell_type": "code",
   "execution_count": 38,
   "metadata": {},
   "outputs": [
    {
     "name": "stdout",
     "output_type": "stream",
     "text": [
      "_________________________________________________________________\n",
      "Layer (type)                 Output Shape              Param #   \n",
      "=================================================================\n",
      "embedding_2 (Embedding)      (None, 142, 128)          1526528   \n",
      "_________________________________________________________________\n",
      "lstm_2 (LSTM)                (None, 128)               131584    \n",
      "_________________________________________________________________\n",
      "dropout_1 (Dropout)          (None, 128)               0         \n",
      "_________________________________________________________________\n",
      "dense_2 (Dense)              (None, 3)                 387       \n",
      "=================================================================\n",
      "Total params: 1,658,499\n",
      "Trainable params: 1,658,499\n",
      "Non-trainable params: 0\n",
      "_________________________________________________________________\n"
     ]
    }
   ],
   "source": [
    "#Adding dropout\n",
    "model1 = Sequential()\n",
    "model1.add(Embedding(max_words,128,input_length=max_len))\n",
    "model1.add(LSTM(128))\n",
    "model1.add(Dropout(0.4))\n",
    "model1.add(Dense(num_classes, activation='sigmoid'))\n",
    "model1.summary()"
   ]
  },
  {
   "cell_type": "code",
   "execution_count": 39,
   "metadata": {},
   "outputs": [
    {
     "name": "stdout",
     "output_type": "stream",
     "text": [
      "Train on 11712 samples, validate on 2928 samples\n",
      "Epoch 1/10\n",
      "11712/11712 [==============================] - 15s 1ms/step - loss: 0.9415 - acc: 0.6178 - val_loss: 0.8498 - val_acc: 0.6370\n",
      "Epoch 2/10\n",
      "11712/11712 [==============================] - 14s 1ms/step - loss: 0.6806 - acc: 0.7125 - val_loss: 0.6095 - val_acc: 0.7449\n",
      "Epoch 3/10\n",
      "11712/11712 [==============================] - 14s 1ms/step - loss: 0.4491 - acc: 0.8369 - val_loss: 0.5647 - val_acc: 0.7842\n",
      "Epoch 4/10\n",
      "11712/11712 [==============================] - 14s 1ms/step - loss: 0.3045 - acc: 0.8886 - val_loss: 0.6153 - val_acc: 0.7804\n",
      "Epoch 5/10\n",
      "11712/11712 [==============================] - 14s 1ms/step - loss: 0.2185 - acc: 0.9238 - val_loss: 0.6429 - val_acc: 0.7831\n",
      "Epoch 6/10\n",
      "11712/11712 [==============================] - 14s 1ms/step - loss: 0.1790 - acc: 0.9388 - val_loss: 0.7085 - val_acc: 0.7633\n",
      "Epoch 7/10\n",
      "11712/11712 [==============================] - 14s 1ms/step - loss: 0.1457 - acc: 0.9515 - val_loss: 0.8009 - val_acc: 0.7548\n",
      "Epoch 8/10\n",
      "11712/11712 [==============================] - 14s 1ms/step - loss: 0.1288 - acc: 0.9573 - val_loss: 0.8247 - val_acc: 0.7647\n",
      "Epoch 9/10\n",
      "11712/11712 [==============================] - 14s 1ms/step - loss: 0.1104 - acc: 0.9620 - val_loss: 0.9405 - val_acc: 0.7585\n",
      "Epoch 10/10\n",
      "11712/11712 [==============================] - 14s 1ms/step - loss: 0.0956 - acc: 0.9688 - val_loss: 0.9933 - val_acc: 0.7435\n"
     ]
    },
    {
     "data": {
      "text/plain": [
       "<keras.callbacks.History at 0x7fcbab0a64a8>"
      ]
     },
     "execution_count": 39,
     "metadata": {},
     "output_type": "execute_result"
    }
   ],
   "source": [
    "deep_lr_model(model1)"
   ]
  },
  {
   "cell_type": "code",
   "execution_count": 40,
   "metadata": {},
   "outputs": [
    {
     "name": "stdout",
     "output_type": "stream",
     "text": [
      "_________________________________________________________________\n",
      "Layer (type)                 Output Shape              Param #   \n",
      "=================================================================\n",
      "embedding_3 (Embedding)      (None, 142, 128)          1526528   \n",
      "_________________________________________________________________\n",
      "dropout_2 (Dropout)          (None, 142, 128)          0         \n",
      "_________________________________________________________________\n",
      "lstm_3 (LSTM)                (None, 128)               131584    \n",
      "_________________________________________________________________\n",
      "dense_3 (Dense)              (None, 3)                 387       \n",
      "=================================================================\n",
      "Total params: 1,658,499\n",
      "Trainable params: 1,658,499\n",
      "Non-trainable params: 0\n",
      "_________________________________________________________________\n"
     ]
    }
   ],
   "source": [
    "#Adding regularizer \n",
    "model2 = Sequential()\n",
    "model2.add(Embedding(max_words,128,input_length=max_len))\n",
    "model2.add(Dropout(0.4))\n",
    "model2.add(LSTM(128,kernel_regularizer=regularizers.l2(0.001)))\n",
    "model2.add(Dense(num_classes, activation='sigmoid'))\n",
    "model2.summary()"
   ]
  },
  {
   "cell_type": "code",
   "execution_count": 41,
   "metadata": {},
   "outputs": [
    {
     "name": "stdout",
     "output_type": "stream",
     "text": [
      "Train on 11712 samples, validate on 2928 samples\n",
      "Epoch 1/10\n",
      "11712/11712 [==============================] - 15s 1ms/step - loss: 1.0559 - acc: 0.6203 - val_loss: 0.9611 - val_acc: 0.6233\n",
      "Epoch 2/10\n",
      "11712/11712 [==============================] - 14s 1ms/step - loss: 0.8398 - acc: 0.6520 - val_loss: 0.7256 - val_acc: 0.7025\n",
      "Epoch 3/10\n",
      "11712/11712 [==============================] - 14s 1ms/step - loss: 0.5945 - acc: 0.7678 - val_loss: 0.6036 - val_acc: 0.7732\n",
      "Epoch 4/10\n",
      "11712/11712 [==============================] - 14s 1ms/step - loss: 0.4542 - acc: 0.8458 - val_loss: 0.5792 - val_acc: 0.7848\n",
      "Epoch 5/10\n",
      "11712/11712 [==============================] - 14s 1ms/step - loss: 0.3463 - acc: 0.8821 - val_loss: 0.6186 - val_acc: 0.7801\n",
      "Epoch 6/10\n",
      "11712/11712 [==============================] - 15s 1ms/step - loss: 0.2853 - acc: 0.9062 - val_loss: 0.6417 - val_acc: 0.7777\n",
      "Epoch 7/10\n",
      "11712/11712 [==============================] - 14s 1ms/step - loss: 0.2413 - acc: 0.9244 - val_loss: 0.6989 - val_acc: 0.7640\n",
      "Epoch 8/10\n",
      "11712/11712 [==============================] - 14s 1ms/step - loss: 0.2121 - acc: 0.9357 - val_loss: 0.7057 - val_acc: 0.7732\n",
      "Epoch 9/10\n",
      "11712/11712 [==============================] - 14s 1ms/step - loss: 0.1878 - acc: 0.9425 - val_loss: 0.7404 - val_acc: 0.7507\n",
      "Epoch 10/10\n",
      "11712/11712 [==============================] - 14s 1ms/step - loss: 0.1640 - acc: 0.9518 - val_loss: 0.7987 - val_acc: 0.7705\n"
     ]
    },
    {
     "data": {
      "text/plain": [
       "<keras.callbacks.History at 0x7fcbab090cf8>"
      ]
     },
     "execution_count": 41,
     "metadata": {},
     "output_type": "execute_result"
    }
   ],
   "source": [
    "deep_lr_model(model2)"
   ]
  },
  {
   "cell_type": "code",
   "execution_count": 42,
   "metadata": {},
   "outputs": [
    {
     "name": "stdout",
     "output_type": "stream",
     "text": [
      "2928/2928 [==============================] - 9s 3ms/step\n",
      "2928/2928 [==============================] - 9s 3ms/step\n",
      "2928/2928 [==============================] - 9s 3ms/step\n"
     ]
    }
   ],
   "source": [
    "score = model.evaluate(X_test_pad,Y_test)\n",
    "score1 = model1.evaluate(X_test_pad,Y_test)\n",
    "score2 = model2.evaluate(X_test_pad,Y_test)"
   ]
  },
  {
   "cell_type": "code",
   "execution_count": 43,
   "metadata": {},
   "outputs": [
    {
     "name": "stdout",
     "output_type": "stream",
     "text": [
      "Test Accuracy of Base Model: 0.7513661202185792\n",
      "Test Accuracy of Base Model with Dropout Layer: 0.7435109289617486\n",
      "Test Accuracy of Base Model with Dropout Layer and Regularizer: 0.7704918032786885\n"
     ]
    }
   ],
   "source": [
    "print(\"Test Accuracy of Base Model:\",score[1])\n",
    "print(\"Test Accuracy of Base Model with Dropout Layer:\",score1[1])\n",
    "print(\"Test Accuracy of Base Model with Dropout Layer and Regularizer:\",score2[1])"
   ]
  },
  {
   "cell_type": "markdown",
   "metadata": {},
   "source": [
    "## Transfer Learning\n",
    "#### Loading pre-trained language model and fine-tuning"
   ]
  },
  {
   "cell_type": "code",
   "execution_count": 5,
   "metadata": {},
   "outputs": [
    {
     "data": {
      "text/html": [
       "<div>\n",
       "<style scoped>\n",
       "    .dataframe tbody tr th:only-of-type {\n",
       "        vertical-align: middle;\n",
       "    }\n",
       "\n",
       "    .dataframe tbody tr th {\n",
       "        vertical-align: top;\n",
       "    }\n",
       "\n",
       "    .dataframe thead th {\n",
       "        text-align: right;\n",
       "    }\n",
       "</style>\n",
       "<table border=\"1\" class=\"dataframe\">\n",
       "  <thead>\n",
       "    <tr style=\"text-align: right;\">\n",
       "      <th></th>\n",
       "      <th>airline_sentiment</th>\n",
       "      <th>text</th>\n",
       "    </tr>\n",
       "  </thead>\n",
       "  <tbody>\n",
       "    <tr>\n",
       "      <th>0</th>\n",
       "      <td>neutral</td>\n",
       "      <td>@VirginAmerica What @dhepburn said.</td>\n",
       "    </tr>\n",
       "    <tr>\n",
       "      <th>1</th>\n",
       "      <td>positive</td>\n",
       "      <td>@VirginAmerica plus you've added commercials t...</td>\n",
       "    </tr>\n",
       "  </tbody>\n",
       "</table>\n",
       "</div>"
      ],
      "text/plain": [
       "  airline_sentiment                                               text\n",
       "0           neutral                @VirginAmerica What @dhepburn said.\n",
       "1          positive  @VirginAmerica plus you've added commercials t..."
      ]
     },
     "execution_count": 5,
     "metadata": {},
     "output_type": "execute_result"
    }
   ],
   "source": [
    "df = df[['airline_sentiment','text']]\n",
    "df.head(2)"
   ]
  },
  {
   "cell_type": "code",
   "execution_count": 6,
   "metadata": {},
   "outputs": [],
   "source": [
    "train = df[:int(len(df)*.99)]\n",
    "valid = df[int(len(df)*.99):]"
   ]
  },
  {
   "cell_type": "code",
   "execution_count": 7,
   "metadata": {},
   "outputs": [],
   "source": [
    "lm_dat = TextLMDataBunch.from_df(path, train, valid)\n",
    "lm_dat.save('data_lm_export.pkl')"
   ]
  },
  {
   "cell_type": "code",
   "execution_count": 8,
   "metadata": {},
   "outputs": [],
   "source": [
    "lm_learn = language_model_learner(lm_dat, AWD_LSTM, drop_mult=0.4)"
   ]
  },
  {
   "cell_type": "code",
   "execution_count": 9,
   "metadata": {},
   "outputs": [
    {
     "data": {
      "text/html": [],
      "text/plain": [
       "<IPython.core.display.HTML object>"
      ]
     },
     "metadata": {},
     "output_type": "display_data"
    },
    {
     "name": "stdout",
     "output_type": "stream",
     "text": [
      "LR Finder is complete, type {learner_name}.recorder.plot() to see the graph.\n"
     ]
    },
    {
     "data": {
      "image/png": "[encoded data removed]",
      "text/plain": [
       "<Figure size 432x288 with 1 Axes>"
      ]
     },
     "metadata": {
      "needs_background": "light"
     },
     "output_type": "display_data"
    }
   ],
   "source": [
    "lm_learn.lr_find()\n",
    "lm_learn.recorder.plot()"
   ]
  },
  {
   "cell_type": "code",
   "execution_count": 10,
   "metadata": {},
   "outputs": [
    {
     "data": {
      "text/html": [
       "<table border=\"1\" class=\"dataframe\">\n",
       "  <thead>\n",
       "    <tr style=\"text-align: left;\">\n",
       "      <th>epoch</th>\n",
       "      <th>train_loss</th>\n",
       "      <th>valid_loss</th>\n",
       "      <th>accuracy</th>\n",
       "      <th>time</th>\n",
       "    </tr>\n",
       "  </thead>\n",
       "  <tbody>\n",
       "    <tr>\n",
       "      <td>0</td>\n",
       "      <td>5.176200</td>\n",
       "      <td>4.144154</td>\n",
       "      <td>0.232366</td>\n",
       "      <td>00:07</td>\n",
       "    </tr>\n",
       "    <tr>\n",
       "      <td>1</td>\n",
       "      <td>4.211397</td>\n",
       "      <td>3.894520</td>\n",
       "      <td>0.253571</td>\n",
       "      <td>00:07</td>\n",
       "    </tr>\n",
       "    <tr>\n",
       "      <td>2</td>\n",
       "      <td>3.826459</td>\n",
       "      <td>3.817397</td>\n",
       "      <td>0.254687</td>\n",
       "      <td>00:07</td>\n",
       "    </tr>\n",
       "    <tr>\n",
       "      <td>3</td>\n",
       "      <td>3.628269</td>\n",
       "      <td>3.822089</td>\n",
       "      <td>0.255134</td>\n",
       "      <td>00:07</td>\n",
       "    </tr>\n",
       "  </tbody>\n",
       "</table>"
      ],
      "text/plain": [
       "<IPython.core.display.HTML object>"
      ]
     },
     "metadata": {},
     "output_type": "display_data"
    }
   ],
   "source": [
    "lm_learn.fit_one_cycle(4, 1e-2)"
   ]
  },
  {
   "cell_type": "code",
   "execution_count": 11,
   "metadata": {},
   "outputs": [
    {
     "data": {
      "text/html": [],
      "text/plain": [
       "<IPython.core.display.HTML object>"
      ]
     },
     "metadata": {},
     "output_type": "display_data"
    },
    {
     "name": "stdout",
     "output_type": "stream",
     "text": [
      "LR Finder is complete, type {learner_name}.recorder.plot() to see the graph.\n"
     ]
    },
    {
     "data": {
      "image/png": "[encoded data removed]",
      "text/plain": [
       "<Figure size 432x288 with 1 Axes>"
      ]
     },
     "metadata": {
      "needs_background": "light"
     },
     "output_type": "display_data"
    }
   ],
   "source": [
    "lm_learn.unfreeze()\n",
    "lm_learn.lr_find(); lm_learn.recorder.plot()"
   ]
  },
  {
   "cell_type": "code",
   "execution_count": 12,
   "metadata": {},
   "outputs": [
    {
     "data": {
      "text/html": [
       "<table border=\"1\" class=\"dataframe\">\n",
       "  <thead>\n",
       "    <tr style=\"text-align: left;\">\n",
       "      <th>epoch</th>\n",
       "      <th>train_loss</th>\n",
       "      <th>valid_loss</th>\n",
       "      <th>accuracy</th>\n",
       "      <th>time</th>\n",
       "    </tr>\n",
       "  </thead>\n",
       "  <tbody>\n",
       "    <tr>\n",
       "      <td>0</td>\n",
       "      <td>3.491924</td>\n",
       "      <td>3.747107</td>\n",
       "      <td>0.264509</td>\n",
       "      <td>00:09</td>\n",
       "    </tr>\n",
       "    <tr>\n",
       "      <td>1</td>\n",
       "      <td>3.364598</td>\n",
       "      <td>3.707552</td>\n",
       "      <td>0.272991</td>\n",
       "      <td>00:09</td>\n",
       "    </tr>\n",
       "    <tr>\n",
       "      <td>2</td>\n",
       "      <td>3.168861</td>\n",
       "      <td>3.722906</td>\n",
       "      <td>0.269420</td>\n",
       "      <td>00:09</td>\n",
       "    </tr>\n",
       "    <tr>\n",
       "      <td>3</td>\n",
       "      <td>2.994082</td>\n",
       "      <td>3.765370</td>\n",
       "      <td>0.268080</td>\n",
       "      <td>00:09</td>\n",
       "    </tr>\n",
       "  </tbody>\n",
       "</table>"
      ],
      "text/plain": [
       "<IPython.core.display.HTML object>"
      ]
     },
     "metadata": {},
     "output_type": "display_data"
    }
   ],
   "source": [
    "lm_learn.fit_one_cycle(4, 1e-3)\n",
    "#Encoder\n",
    "lm_learn.save_encoder('ft_enc')"
   ]
  },
  {
   "cell_type": "markdown",
   "metadata": {},
   "source": [
    "## Fine-tuning Classifier \n"
   ]
  },
  {
   "cell_type": "code",
   "execution_count": 13,
   "metadata": {},
   "outputs": [],
   "source": [
    "#Splitting the dataset in 80:20 ratio\n",
    "train = df[:int(len(df)*.80)]\n",
    "valid = df[int(len(df)*.80):]"
   ]
  },
  {
   "cell_type": "code",
   "execution_count": 14,
   "metadata": {},
   "outputs": [],
   "source": [
    "# Classifier model data\n",
    "data_clas = TextClasDataBunch.from_df(path, train, valid, vocab=lm_dat.train_ds.vocab, bs=32)\n",
    "data_clas.save('data_clas_export.pkl') ; data_clas = load_data(path, 'data_clas_export.pkl', bs=16)"
   ]
  },
  {
   "cell_type": "code",
   "execution_count": 15,
   "metadata": {},
   "outputs": [],
   "source": [
    "#Building a classifier with fine-tuned encoder \n",
    "lm_learn = text_classifier_learner(data_clas, AWD_LSTM, drop_mult=.3, metrics=[accuracy,Precision(average='weighted'),Recall(average='weighted')])\n",
    "lm_learn.load_encoder('ft_enc')"
   ]
  },
  {
   "cell_type": "code",
   "execution_count": 16,
   "metadata": {},
   "outputs": [
    {
     "data": {
      "text/html": [
       "<table border=\"1\" class=\"dataframe\">\n",
       "  <thead>\n",
       "    <tr style=\"text-align: right;\">\n",
       "      <th>text</th>\n",
       "      <th>target</th>\n",
       "    </tr>\n",
       "  </thead>\n",
       "  <tbody>\n",
       "    <tr>\n",
       "      <td>xxbos @united xxmaj hi have a question re future xxmaj flight xxmaj booking xxmaj problems . xxup dub - xxup jac 29 / 9 xxup jac - xxup lax 8 / 10 xxup lax - xxup dub 13 / 10 . i 'm * xxup g. xxmaj what is checked bag allowance for xxup jac - xxup lax ?</td>\n",
       "      <td>neutral</td>\n",
       "    </tr>\n",
       "    <tr>\n",
       "      <td>xxbos @usairways e xxrep 4 y ! xxmaj cancelled xxmaj flightlations , xxmaj flight xxmaj booking xxmaj problemss , reflight xxmaj booking xxmaj problemss , but y' all got me on the same flight out tonight ( not tomorrow ) &amp; &amp; the xxup fc upgrade . xxmaj thx !</td>\n",
       "      <td>positive</td>\n",
       "    </tr>\n",
       "    <tr>\n",
       "      <td>xxbos @united xxmaj waiting for 3494 xxup ewr - xxup ord , delayed 47 mins . xxmaj might miss xxunk xxup ord - xxup ywg at 6 pm xxup ct . xxmaj any room on xxunk xxup ord - xxup ywg in case i miss xxunk ?</td>\n",
       "      <td>negative</td>\n",
       "    </tr>\n",
       "    <tr>\n",
       "      <td>xxbos @usairways yes , i am as well . * * xxup five * * xxup hours xxup on xxup hold , xxup folks . xxmaj can you xxup please tell me if this is typical ? ! xxmaj trying to be understanding here .</td>\n",
       "      <td>negative</td>\n",
       "    </tr>\n",
       "    <tr>\n",
       "      <td>xxbos @jetblue big shoutout to the crews on xxunk xxmaj bos &gt; jfk &amp; &amp; xxunk jfk &gt; roc , &amp; &amp; gate crews at c19 xxmaj bos &amp; &amp; 6 jfk . xxmaj long day of delays made better by them !</td>\n",
       "      <td>positive</td>\n",
       "    </tr>\n",
       "  </tbody>\n",
       "</table>"
      ],
      "text/plain": [
       "<IPython.core.display.HTML object>"
      ]
     },
     "metadata": {},
     "output_type": "display_data"
    }
   ],
   "source": [
    "data_clas.show_batch()"
   ]
  },
  {
   "cell_type": "code",
   "execution_count": 17,
   "metadata": {},
   "outputs": [
    {
     "data": {
      "text/html": [],
      "text/plain": [
       "<IPython.core.display.HTML object>"
      ]
     },
     "metadata": {},
     "output_type": "display_data"
    },
    {
     "name": "stdout",
     "output_type": "stream",
     "text": [
      "LR Finder is complete, type {learner_name}.recorder.plot() to see the graph.\n"
     ]
    },
    {
     "data": {
      "image/png": "[encoded data removed]",
      "text/plain": [
       "<Figure size 432x288 with 1 Axes>"
      ]
     },
     "metadata": {
      "needs_background": "light"
     },
     "output_type": "display_data"
    }
   ],
   "source": [
    "lm_learn.lr_find()\n",
    "lm_learn.recorder.plot()"
   ]
  },
  {
   "cell_type": "code",
   "execution_count": 18,
   "metadata": {},
   "outputs": [
    {
     "data": {
      "text/html": [
       "<table border=\"1\" class=\"dataframe\">\n",
       "  <thead>\n",
       "    <tr style=\"text-align: left;\">\n",
       "      <th>epoch</th>\n",
       "      <th>train_loss</th>\n",
       "      <th>valid_loss</th>\n",
       "      <th>accuracy</th>\n",
       "      <th>precision</th>\n",
       "      <th>recall</th>\n",
       "      <th>time</th>\n",
       "    </tr>\n",
       "  </thead>\n",
       "  <tbody>\n",
       "    <tr>\n",
       "      <td>0</td>\n",
       "      <td>0.682328</td>\n",
       "      <td>0.502879</td>\n",
       "      <td>0.793033</td>\n",
       "      <td>0.772230</td>\n",
       "      <td>0.793033</td>\n",
       "      <td>00:16</td>\n",
       "    </tr>\n",
       "    <tr>\n",
       "      <td>1</td>\n",
       "      <td>0.668110</td>\n",
       "      <td>0.529200</td>\n",
       "      <td>0.799863</td>\n",
       "      <td>0.795608</td>\n",
       "      <td>0.799863</td>\n",
       "      <td>00:15</td>\n",
       "    </tr>\n",
       "    <tr>\n",
       "      <td>2</td>\n",
       "      <td>0.617842</td>\n",
       "      <td>0.474387</td>\n",
       "      <td>0.814891</td>\n",
       "      <td>0.800749</td>\n",
       "      <td>0.814891</td>\n",
       "      <td>00:16</td>\n",
       "    </tr>\n",
       "    <tr>\n",
       "      <td>3</td>\n",
       "      <td>0.555540</td>\n",
       "      <td>0.456286</td>\n",
       "      <td>0.816257</td>\n",
       "      <td>0.800506</td>\n",
       "      <td>0.816257</td>\n",
       "      <td>00:15</td>\n",
       "    </tr>\n",
       "  </tbody>\n",
       "</table>"
      ],
      "text/plain": [
       "<IPython.core.display.HTML object>"
      ]
     },
     "metadata": {},
     "output_type": "display_data"
    }
   ],
   "source": [
    "lm_learn.fit_one_cycle(4, 1e-2)"
   ]
  },
  {
   "cell_type": "code",
   "execution_count": 19,
   "metadata": {},
   "outputs": [
    {
     "data": {
      "text/html": [
       "<table border=\"1\" class=\"dataframe\">\n",
       "  <thead>\n",
       "    <tr style=\"text-align: left;\">\n",
       "      <th>epoch</th>\n",
       "      <th>train_loss</th>\n",
       "      <th>valid_loss</th>\n",
       "      <th>accuracy</th>\n",
       "      <th>precision</th>\n",
       "      <th>recall</th>\n",
       "      <th>time</th>\n",
       "    </tr>\n",
       "  </thead>\n",
       "  <tbody>\n",
       "    <tr>\n",
       "      <td>0</td>\n",
       "      <td>0.538798</td>\n",
       "      <td>0.458743</td>\n",
       "      <td>0.820697</td>\n",
       "      <td>0.809267</td>\n",
       "      <td>0.820697</td>\n",
       "      <td>00:18</td>\n",
       "    </tr>\n",
       "    <tr>\n",
       "      <td>1</td>\n",
       "      <td>0.565908</td>\n",
       "      <td>0.445905</td>\n",
       "      <td>0.827527</td>\n",
       "      <td>0.816547</td>\n",
       "      <td>0.827527</td>\n",
       "      <td>00:18</td>\n",
       "    </tr>\n",
       "    <tr>\n",
       "      <td>2</td>\n",
       "      <td>0.575970</td>\n",
       "      <td>0.435906</td>\n",
       "      <td>0.824112</td>\n",
       "      <td>0.812885</td>\n",
       "      <td>0.824112</td>\n",
       "      <td>00:18</td>\n",
       "    </tr>\n",
       "    <tr>\n",
       "      <td>3</td>\n",
       "      <td>0.485491</td>\n",
       "      <td>0.432318</td>\n",
       "      <td>0.825820</td>\n",
       "      <td>0.813059</td>\n",
       "      <td>0.825820</td>\n",
       "      <td>00:18</td>\n",
       "    </tr>\n",
       "  </tbody>\n",
       "</table>"
      ],
      "text/plain": [
       "<IPython.core.display.HTML object>"
      ]
     },
     "metadata": {},
     "output_type": "display_data"
    }
   ],
   "source": [
    "lm_learn.freeze_to(-2)\n",
    "lm_learn.fit_one_cycle(4, slice(1e-3/(2.6**4), 1e-3))"
   ]
  },
  {
   "cell_type": "code",
   "execution_count": 20,
   "metadata": {},
   "outputs": [
    {
     "data": {
      "text/html": [
       "<table border=\"1\" class=\"dataframe\">\n",
       "  <thead>\n",
       "    <tr style=\"text-align: left;\">\n",
       "      <th>epoch</th>\n",
       "      <th>train_loss</th>\n",
       "      <th>valid_loss</th>\n",
       "      <th>accuracy</th>\n",
       "      <th>precision</th>\n",
       "      <th>recall</th>\n",
       "      <th>time</th>\n",
       "    </tr>\n",
       "  </thead>\n",
       "  <tbody>\n",
       "    <tr>\n",
       "      <td>0</td>\n",
       "      <td>0.516241</td>\n",
       "      <td>0.434568</td>\n",
       "      <td>0.825478</td>\n",
       "      <td>0.813567</td>\n",
       "      <td>0.825478</td>\n",
       "      <td>00:26</td>\n",
       "    </tr>\n",
       "    <tr>\n",
       "      <td>1</td>\n",
       "      <td>0.484241</td>\n",
       "      <td>0.429415</td>\n",
       "      <td>0.825478</td>\n",
       "      <td>0.812364</td>\n",
       "      <td>0.825478</td>\n",
       "      <td>00:26</td>\n",
       "    </tr>\n",
       "    <tr>\n",
       "      <td>2</td>\n",
       "      <td>0.480723</td>\n",
       "      <td>0.428361</td>\n",
       "      <td>0.824795</td>\n",
       "      <td>0.811476</td>\n",
       "      <td>0.824795</td>\n",
       "      <td>00:26</td>\n",
       "    </tr>\n",
       "    <tr>\n",
       "      <td>3</td>\n",
       "      <td>0.465419</td>\n",
       "      <td>0.430189</td>\n",
       "      <td>0.822404</td>\n",
       "      <td>0.808866</td>\n",
       "      <td>0.822404</td>\n",
       "      <td>00:26</td>\n",
       "    </tr>\n",
       "    <tr>\n",
       "      <td>4</td>\n",
       "      <td>0.447027</td>\n",
       "      <td>0.432877</td>\n",
       "      <td>0.830601</td>\n",
       "      <td>0.820960</td>\n",
       "      <td>0.830601</td>\n",
       "      <td>00:26</td>\n",
       "    </tr>\n",
       "    <tr>\n",
       "      <td>5</td>\n",
       "      <td>0.480386</td>\n",
       "      <td>0.436534</td>\n",
       "      <td>0.824454</td>\n",
       "      <td>0.814798</td>\n",
       "      <td>0.824454</td>\n",
       "      <td>00:26</td>\n",
       "    </tr>\n",
       "    <tr>\n",
       "      <td>6</td>\n",
       "      <td>0.470694</td>\n",
       "      <td>0.433833</td>\n",
       "      <td>0.824795</td>\n",
       "      <td>0.811687</td>\n",
       "      <td>0.824795</td>\n",
       "      <td>00:26</td>\n",
       "    </tr>\n",
       "    <tr>\n",
       "      <td>7</td>\n",
       "      <td>0.444131</td>\n",
       "      <td>0.427727</td>\n",
       "      <td>0.826844</td>\n",
       "      <td>0.813270</td>\n",
       "      <td>0.826844</td>\n",
       "      <td>00:27</td>\n",
       "    </tr>\n",
       "  </tbody>\n",
       "</table>"
      ],
      "text/plain": [
       "<IPython.core.display.HTML object>"
      ]
     },
     "metadata": {},
     "output_type": "display_data"
    }
   ],
   "source": [
    "#unfreezing the model and fine-tuning it\n",
    "lm_learn.unfreeze()\n",
    "lm_learn.fit_one_cycle(8, slice(1e-5/(2.6**4),1e-5))\n",
    "lm_learn.save('final')"
   ]
  },
  {
   "cell_type": "code",
   "execution_count": 21,
   "metadata": {},
   "outputs": [
    {
     "name": "stdout",
     "output_type": "stream",
     "text": [
      "Test Accuracy:  0.8271857923497268\n"
     ]
    },
    {
     "name": "stderr",
     "output_type": "stream",
     "text": [
      "/opt/conda/lib/python3.6/site-packages/ipykernel_launcher.py:2: SettingWithCopyWarning: \n",
      "A value is trying to be set on a copy of a slice from a DataFrame.\n",
      "Try using .loc[row_indexer,col_indexer] = value instead\n",
      "\n",
      "See the caveats in the documentation: http://pandas.pydata.org/pandas-docs/stable/indexing.html#indexing-view-versus-copy\n",
      "  \n"
     ]
    }
   ],
   "source": [
    "#Obtaining Test Accuracy\n",
    "valid['pred_sentiment'] = valid['text'].apply(lambda row: str(lm_learn.predict(row)[0]))\n",
    "print(\"Test Accuracy: \", accuracy_score(valid['airline_sentiment'], valid['pred_sentiment']))"
   ]
  },
  {
   "cell_type": "code",
   "execution_count": 22,
   "metadata": {},
   "outputs": [],
   "source": [
    "#Creation of list of tweets\n",
    "tweets_donald_trump = [\"Very disappointed in Prime Minister Stefan Löfven for being unable to act. Sweden has let our African American Community down in the United States. I watched the tapes of A$AP Rocky, and he was being followed and harassed by troublemakers. Treat Americans fairly! #FreeRocky\",\n",
    "       \"I am pleased to announce the House has passed our budget deal 284-149. Great for our Military and our Vets. A big thank you!\",\n",
    "       \"This has been a disaster for the Democrats and a disaster for the reputation of Robert Mueller.” Chris Wallace @FoxNews\",\n",
    "       \"The Democrat Congresswomen have been spewing some of the most vile, hateful, and disgusting things ever said by a politician in the House or Senate, & yet they get a free pass and a big embrace from the Democrat Party. Horrible anti-Israel, anti-USA, pro-terrorist & public.....\",\n",
    "       \".....shouting of the F...word, among many other terrible things, and the petrified Dems run for the hills. Why isn’t the House voting to rebuke the filthy and hate laced things they have said? Because they are the Radical Left, and the Democrats are afraid to take them on. Sad!\",\n",
    "       \"94% Approval Rating in the Republican Party, an all time high. Ronald Reagan was 87%. Thank you!\",\n",
    "       \"Mexico is doing great at the Border, but China is letting us down in that they have not been buying the agricultural products from our great Farmers that they said they would. Hopefully they will start soon!\",\n",
    "        \"Watched low rated @Morning_Joe for first time in long time. FAKE NEWS. He called me to stop a National Enquirer article. I said no! Bad show\",\n",
    "       \"Great morning at the Pentagon yesterday. Congratulations to our new Defense Secretary, Mark @EsperDoD!\",\n",
    "       \"Highly conflicted Robert Mueller should not be given another bite at the apple. In the end it will be bad for him and the phony Democrats in Congress who have done nothing but waste time on this ridiculous Witch Hunt. Result of the Mueller Report, NO COLLUSION, NO OBSTRUCTION!...\"]"
   ]
  },
  {
   "cell_type": "code",
   "execution_count": 23,
   "metadata": {},
   "outputs": [],
   "source": [
    "#Creating a dataframe\n",
    "df_djt = pd.DataFrame(tweets_donald_trump,columns=['Donald Trump Tweets'])"
   ]
  },
  {
   "cell_type": "code",
   "execution_count": 24,
   "metadata": {},
   "outputs": [
    {
     "data": {
      "text/html": [
       "<div>\n",
       "<style scoped>\n",
       "    .dataframe tbody tr th:only-of-type {\n",
       "        vertical-align: middle;\n",
       "    }\n",
       "\n",
       "    .dataframe tbody tr th {\n",
       "        vertical-align: top;\n",
       "    }\n",
       "\n",
       "    .dataframe thead th {\n",
       "        text-align: right;\n",
       "    }\n",
       "</style>\n",
       "<table border=\"1\" class=\"dataframe\">\n",
       "  <thead>\n",
       "    <tr style=\"text-align: right;\">\n",
       "      <th></th>\n",
       "      <th>Donald Trump Tweets</th>\n",
       "      <th>pred_sentiment</th>\n",
       "    </tr>\n",
       "  </thead>\n",
       "  <tbody>\n",
       "    <tr>\n",
       "      <th>0</th>\n",
       "      <td>Very disappointed in Prime Minister Stefan Löf...</td>\n",
       "      <td>negative</td>\n",
       "    </tr>\n",
       "    <tr>\n",
       "      <th>1</th>\n",
       "      <td>I am pleased to announce the House has passed ...</td>\n",
       "      <td>positive</td>\n",
       "    </tr>\n",
       "    <tr>\n",
       "      <th>2</th>\n",
       "      <td>This has been a disaster for the Democrats and...</td>\n",
       "      <td>positive</td>\n",
       "    </tr>\n",
       "    <tr>\n",
       "      <th>3</th>\n",
       "      <td>The Democrat Congresswomen have been spewing s...</td>\n",
       "      <td>negative</td>\n",
       "    </tr>\n",
       "    <tr>\n",
       "      <th>4</th>\n",
       "      <td>.....shouting of the F...word, among many othe...</td>\n",
       "      <td>negative</td>\n",
       "    </tr>\n",
       "    <tr>\n",
       "      <th>5</th>\n",
       "      <td>94% Approval Rating in the Republican Party, a...</td>\n",
       "      <td>positive</td>\n",
       "    </tr>\n",
       "    <tr>\n",
       "      <th>6</th>\n",
       "      <td>Mexico is doing great at the Border, but China...</td>\n",
       "      <td>negative</td>\n",
       "    </tr>\n",
       "    <tr>\n",
       "      <th>7</th>\n",
       "      <td>Watched low rated @Morning_Joe for first time ...</td>\n",
       "      <td>negative</td>\n",
       "    </tr>\n",
       "    <tr>\n",
       "      <th>8</th>\n",
       "      <td>Great morning at the Pentagon yesterday. Congr...</td>\n",
       "      <td>positive</td>\n",
       "    </tr>\n",
       "    <tr>\n",
       "      <th>9</th>\n",
       "      <td>Highly conflicted Robert Mueller should not be...</td>\n",
       "      <td>negative</td>\n",
       "    </tr>\n",
       "  </tbody>\n",
       "</table>\n",
       "</div>"
      ],
      "text/plain": [
       "                                 Donald Trump Tweets pred_sentiment\n",
       "0  Very disappointed in Prime Minister Stefan Löf...       negative\n",
       "1  I am pleased to announce the House has passed ...       positive\n",
       "2  This has been a disaster for the Democrats and...       positive\n",
       "3  The Democrat Congresswomen have been spewing s...       negative\n",
       "4  .....shouting of the F...word, among many othe...       negative\n",
       "5  94% Approval Rating in the Republican Party, a...       positive\n",
       "6  Mexico is doing great at the Border, but China...       negative\n",
       "7  Watched low rated @Morning_Joe for first time ...       negative\n",
       "8  Great morning at the Pentagon yesterday. Congr...       positive\n",
       "9  Highly conflicted Robert Mueller should not be...       negative"
      ]
     },
     "execution_count": 24,
     "metadata": {},
     "output_type": "execute_result"
    }
   ],
   "source": [
    "#Prediction of sentiment of Dataframe's tweets\n",
    "df_djt['pred_sentiment'] = df_djt['Donald Trump Tweets'].apply(lambda row: str(lm_learn.predict(row)[0]))\n",
    "df_djt"
   ]
  },
  {
   "cell_type": "markdown",
   "metadata": {},
   "source": [
    "## Conclusion\n",
    "The observed test accuracy for models implemented were as follows:\n",
    "\n",
    "* Test Accuracy of simple LSTM Model: 76.94%\n",
    "* Test Accuracy of Base Model with Dropout Layer: 75.88%\n",
    "* Test Accuracy of Base Model with Dropout Layer and Regularizer: 76.12%\n",
    "* Test Accuracy of Classifier after using Pre-trained model: 83.23%\n",
    "\n",
    "**The Test Accuracy has significantly improved after using transfer learning.  **"
   ]
  },
  {
   "cell_type": "markdown",
   "metadata": {},
   "source": [
    "## References\n",
    "[1] “Application to NLP, including ULMFiT fine-tuning,” text | fastai. [Online]. Available: https://docs.fast.ai/text.html#Text-models,-data,-and-training. [Accessed: 24-Jul-2019].\n"
   ]
  }
 ],
 "metadata": {
  "kernelspec": {
   "display_name": "Python 3",
   "language": "python",
   "name": "python3"
  },
  "language_info": {
   "codemirror_mode": {
    "name": "ipython",
    "version": 3
   },
   "file_extension": ".py",
   "mimetype": "text/x-python",
   "name": "python",
   "nbconvert_exporter": "python",
   "pygments_lexer": "ipython3",
   "version": "3.7.1"
  }
 },
 "nbformat": 4,
 "nbformat_minor": 1
}
