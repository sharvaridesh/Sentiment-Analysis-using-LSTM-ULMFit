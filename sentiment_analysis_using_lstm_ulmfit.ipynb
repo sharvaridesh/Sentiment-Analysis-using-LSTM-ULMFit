{
 "cells": [
  {
   "cell_type": "code",
   "execution_count": 200,
   "metadata": {
    "_cell_guid": "b1076dfc-b9ad-4769-8c92-a6c4dae69d19",
    "_uuid": "8f2839f25d086af736a60e9eeb907d3b93b6e0e5"
   },
   "outputs": [
    {
     "name": "stdout",
     "output_type": "stream",
     "text": [
      "['database.sqlite', 'Tweets.csv']\n"
     ]
    }
   ],
   "source": [
    "# This Python 3 environment comes with many helpful analytics libraries installed\n",
    "# It is defined by the kaggle/python docker image: https://github.com/kaggle/docker-python\n",
    "# For example, here's several helpful packages to load in \n",
    "\n",
    "import numpy as np # linear algebra\n",
    "import pandas as pd # data processing, CSV file I/O (e.g. pd.read_csv)\n",
    "\n",
    "# Input data files are available in the \"../input/\" directory.\n",
    "# For example, running this (by clicking run or pressing Shift+Enter) will list the files in the input directory\n",
    "\n",
    "import os\n",
    "print(os.listdir(\"../input\"))\n",
    "\n",
    "# Any results you write to the current directory are saved as output.\n"
   ]
  },
  {
   "cell_type": "code",
   "execution_count": 201,
   "metadata": {
    "_cell_guid": "79c7e3d0-c299-4dcb-8224-4455121ee9b0",
    "_uuid": "d629ff2d2480ee46fbb7e2d37f6b5fab8052498a"
   },
   "outputs": [],
   "source": [
    "import os\n",
    "\n",
    "# Time\n",
    "import time\n",
    "import datetime\n",
    "\n",
    "# Numerical\n",
    "import numpy as np\n",
    "import pandas as pd\n",
    "\n",
    "# Tools\n",
    "import itertools\n",
    "from collections import Counter\n",
    "\n",
    "# NLP\n",
    "import re\n",
    "import nltk\n",
    "from nltk.corpus import stopwords\n",
    "\n",
    "# Preprocessing\n",
    "from sklearn import preprocessing\n",
    "from sklearn.utils import class_weight as cw\n",
    "from sklearn.feature_extraction.text import CountVectorizer\n",
    "from sklearn.preprocessing import LabelEncoder\n",
    "from sklearn.model_selection import train_test_split\n",
    "\n",
    "# Model Selection\n",
    "from sklearn.model_selection import train_test_split\n",
    "\n",
    "# Evaluation Metrics\n",
    "from sklearn import metrics \n",
    "from sklearn.metrics import f1_score, accuracy_score,confusion_matrix,classification_report\n",
    "\n",
    "# Deep Learing Preprocessing - Keras\n",
    "from keras.preprocessing.text import Tokenizer\n",
    "from keras.preprocessing import sequence\n",
    "from keras.utils import to_categorical\n",
    "\n",
    "# Deep Learning Model - Keras\n",
    "from keras.models import Model\n",
    "from keras.models import Sequential\n",
    "\n",
    "from keras.layers import Dense, Embedding\n",
    "from keras.models import Sequential\n",
    "\n",
    "# Deep Learning Model - Keras - RNN\n",
    "from keras.layers import Embedding, LSTM, Bidirectional\n",
    "\n",
    "# Deep Learning Model - Keras - General\n",
    "from keras.layers import Input, Add, concatenate, Dense, Activation, BatchNormalization, Dropout, Flatten\n",
    "from keras.layers import LeakyReLU, PReLU, Lambda, Multiply\n",
    "\n",
    "from keras.preprocessing import sequence\n",
    "\n",
    "# Deep Learning Parameters - Keras\n",
    "from keras.optimizers import RMSprop, Adam\n",
    "\n",
    "# Visualization\n",
    "import matplotlib.pyplot as plt\n",
    "import seaborn as sns"
   ]
  },
  {
   "cell_type": "code",
   "execution_count": 202,
   "metadata": {},
   "outputs": [],
   "source": [
    "path = Path(os.path.abspath(os.curdir))"
   ]
  },
  {
   "cell_type": "code",
   "execution_count": 203,
   "metadata": {},
   "outputs": [
    {
     "data": {
      "text/html": [
       "<div>\n",
       "<style scoped>\n",
       "    .dataframe tbody tr th:only-of-type {\n",
       "        vertical-align: middle;\n",
       "    }\n",
       "\n",
       "    .dataframe tbody tr th {\n",
       "        vertical-align: top;\n",
       "    }\n",
       "\n",
       "    .dataframe thead th {\n",
       "        text-align: right;\n",
       "    }\n",
       "</style>\n",
       "<table border=\"1\" class=\"dataframe\">\n",
       "  <thead>\n",
       "    <tr style=\"text-align: right;\">\n",
       "      <th></th>\n",
       "      <th>tweet_id</th>\n",
       "      <th>airline_sentiment</th>\n",
       "      <th>airline_sentiment_confidence</th>\n",
       "      <th>negativereason</th>\n",
       "      <th>negativereason_confidence</th>\n",
       "      <th>airline</th>\n",
       "      <th>airline_sentiment_gold</th>\n",
       "      <th>name</th>\n",
       "      <th>negativereason_gold</th>\n",
       "      <th>retweet_count</th>\n",
       "      <th>text</th>\n",
       "      <th>tweet_coord</th>\n",
       "      <th>tweet_created</th>\n",
       "      <th>tweet_location</th>\n",
       "      <th>user_timezone</th>\n",
       "    </tr>\n",
       "  </thead>\n",
       "  <tbody>\n",
       "    <tr>\n",
       "      <th>0</th>\n",
       "      <td>570306133677760513</td>\n",
       "      <td>neutral</td>\n",
       "      <td>1.0000</td>\n",
       "      <td>NaN</td>\n",
       "      <td>NaN</td>\n",
       "      <td>Virgin America</td>\n",
       "      <td>NaN</td>\n",
       "      <td>cairdin</td>\n",
       "      <td>NaN</td>\n",
       "      <td>0</td>\n",
       "      <td>@VirginAmerica What @dhepburn said.</td>\n",
       "      <td>NaN</td>\n",
       "      <td>2015-02-24 11:35:52 -0800</td>\n",
       "      <td>NaN</td>\n",
       "      <td>Eastern Time (US &amp; Canada)</td>\n",
       "    </tr>\n",
       "    <tr>\n",
       "      <th>1</th>\n",
       "      <td>570301130888122368</td>\n",
       "      <td>positive</td>\n",
       "      <td>0.3486</td>\n",
       "      <td>NaN</td>\n",
       "      <td>0.0000</td>\n",
       "      <td>Virgin America</td>\n",
       "      <td>NaN</td>\n",
       "      <td>jnardino</td>\n",
       "      <td>NaN</td>\n",
       "      <td>0</td>\n",
       "      <td>@VirginAmerica plus you've added commercials t...</td>\n",
       "      <td>NaN</td>\n",
       "      <td>2015-02-24 11:15:59 -0800</td>\n",
       "      <td>NaN</td>\n",
       "      <td>Pacific Time (US &amp; Canada)</td>\n",
       "    </tr>\n",
       "    <tr>\n",
       "      <th>2</th>\n",
       "      <td>570301083672813571</td>\n",
       "      <td>neutral</td>\n",
       "      <td>0.6837</td>\n",
       "      <td>NaN</td>\n",
       "      <td>NaN</td>\n",
       "      <td>Virgin America</td>\n",
       "      <td>NaN</td>\n",
       "      <td>yvonnalynn</td>\n",
       "      <td>NaN</td>\n",
       "      <td>0</td>\n",
       "      <td>@VirginAmerica I didn't today... Must mean I n...</td>\n",
       "      <td>NaN</td>\n",
       "      <td>2015-02-24 11:15:48 -0800</td>\n",
       "      <td>Lets Play</td>\n",
       "      <td>Central Time (US &amp; Canada)</td>\n",
       "    </tr>\n",
       "    <tr>\n",
       "      <th>3</th>\n",
       "      <td>570301031407624196</td>\n",
       "      <td>negative</td>\n",
       "      <td>1.0000</td>\n",
       "      <td>Bad Flight</td>\n",
       "      <td>0.7033</td>\n",
       "      <td>Virgin America</td>\n",
       "      <td>NaN</td>\n",
       "      <td>jnardino</td>\n",
       "      <td>NaN</td>\n",
       "      <td>0</td>\n",
       "      <td>@VirginAmerica it's really aggressive to blast...</td>\n",
       "      <td>NaN</td>\n",
       "      <td>2015-02-24 11:15:36 -0800</td>\n",
       "      <td>NaN</td>\n",
       "      <td>Pacific Time (US &amp; Canada)</td>\n",
       "    </tr>\n",
       "    <tr>\n",
       "      <th>4</th>\n",
       "      <td>570300817074462722</td>\n",
       "      <td>negative</td>\n",
       "      <td>1.0000</td>\n",
       "      <td>Can't Tell</td>\n",
       "      <td>1.0000</td>\n",
       "      <td>Virgin America</td>\n",
       "      <td>NaN</td>\n",
       "      <td>jnardino</td>\n",
       "      <td>NaN</td>\n",
       "      <td>0</td>\n",
       "      <td>@VirginAmerica and it's a really big bad thing...</td>\n",
       "      <td>NaN</td>\n",
       "      <td>2015-02-24 11:14:45 -0800</td>\n",
       "      <td>NaN</td>\n",
       "      <td>Pacific Time (US &amp; Canada)</td>\n",
       "    </tr>\n",
       "  </tbody>\n",
       "</table>\n",
       "</div>"
      ],
      "text/plain": [
       "             tweet_id airline_sentiment  airline_sentiment_confidence  \\\n",
       "0  570306133677760513           neutral                        1.0000   \n",
       "1  570301130888122368          positive                        0.3486   \n",
       "2  570301083672813571           neutral                        0.6837   \n",
       "3  570301031407624196          negative                        1.0000   \n",
       "4  570300817074462722          negative                        1.0000   \n",
       "\n",
       "  negativereason  negativereason_confidence         airline  \\\n",
       "0            NaN                        NaN  Virgin America   \n",
       "1            NaN                     0.0000  Virgin America   \n",
       "2            NaN                        NaN  Virgin America   \n",
       "3     Bad Flight                     0.7033  Virgin America   \n",
       "4     Can't Tell                     1.0000  Virgin America   \n",
       "\n",
       "  airline_sentiment_gold        name negativereason_gold  retweet_count  \\\n",
       "0                    NaN     cairdin                 NaN              0   \n",
       "1                    NaN    jnardino                 NaN              0   \n",
       "2                    NaN  yvonnalynn                 NaN              0   \n",
       "3                    NaN    jnardino                 NaN              0   \n",
       "4                    NaN    jnardino                 NaN              0   \n",
       "\n",
       "                                                text tweet_coord  \\\n",
       "0                @VirginAmerica What @dhepburn said.         NaN   \n",
       "1  @VirginAmerica plus you've added commercials t...         NaN   \n",
       "2  @VirginAmerica I didn't today... Must mean I n...         NaN   \n",
       "3  @VirginAmerica it's really aggressive to blast...         NaN   \n",
       "4  @VirginAmerica and it's a really big bad thing...         NaN   \n",
       "\n",
       "               tweet_created tweet_location               user_timezone  \n",
       "0  2015-02-24 11:35:52 -0800            NaN  Eastern Time (US & Canada)  \n",
       "1  2015-02-24 11:15:59 -0800            NaN  Pacific Time (US & Canada)  \n",
       "2  2015-02-24 11:15:48 -0800      Lets Play  Central Time (US & Canada)  \n",
       "3  2015-02-24 11:15:36 -0800            NaN  Pacific Time (US & Canada)  \n",
       "4  2015-02-24 11:14:45 -0800            NaN  Pacific Time (US & Canada)  "
      ]
     },
     "execution_count": 203,
     "metadata": {},
     "output_type": "execute_result"
    }
   ],
   "source": [
    "#File Import\n",
    "filepath = Path('../input')\n",
    "df = pd.read_csv(filepath/'Tweets.csv')\n",
    "df.head()"
   ]
  },
  {
   "cell_type": "code",
   "execution_count": 204,
   "metadata": {},
   "outputs": [
    {
     "data": {
      "text/html": [
       "<div>\n",
       "<style scoped>\n",
       "    .dataframe tbody tr th:only-of-type {\n",
       "        vertical-align: middle;\n",
       "    }\n",
       "\n",
       "    .dataframe tbody tr th {\n",
       "        vertical-align: top;\n",
       "    }\n",
       "\n",
       "    .dataframe thead th {\n",
       "        text-align: right;\n",
       "    }\n",
       "</style>\n",
       "<table border=\"1\" class=\"dataframe\">\n",
       "  <thead>\n",
       "    <tr style=\"text-align: right;\">\n",
       "      <th></th>\n",
       "      <th>text</th>\n",
       "      <th>airline_sentiment</th>\n",
       "    </tr>\n",
       "  </thead>\n",
       "  <tbody>\n",
       "    <tr>\n",
       "      <th>0</th>\n",
       "      <td>@VirginAmerica What @dhepburn said.</td>\n",
       "      <td>neutral</td>\n",
       "    </tr>\n",
       "    <tr>\n",
       "      <th>1</th>\n",
       "      <td>@VirginAmerica plus you've added commercials t...</td>\n",
       "      <td>positive</td>\n",
       "    </tr>\n",
       "    <tr>\n",
       "      <th>2</th>\n",
       "      <td>@VirginAmerica I didn't today... Must mean I n...</td>\n",
       "      <td>neutral</td>\n",
       "    </tr>\n",
       "    <tr>\n",
       "      <th>3</th>\n",
       "      <td>@VirginAmerica it's really aggressive to blast...</td>\n",
       "      <td>negative</td>\n",
       "    </tr>\n",
       "    <tr>\n",
       "      <th>4</th>\n",
       "      <td>@VirginAmerica and it's a really big bad thing...</td>\n",
       "      <td>negative</td>\n",
       "    </tr>\n",
       "  </tbody>\n",
       "</table>\n",
       "</div>"
      ],
      "text/plain": [
       "                                                text airline_sentiment\n",
       "0                @VirginAmerica What @dhepburn said.           neutral\n",
       "1  @VirginAmerica plus you've added commercials t...          positive\n",
       "2  @VirginAmerica I didn't today... Must mean I n...           neutral\n",
       "3  @VirginAmerica it's really aggressive to blast...          negative\n",
       "4  @VirginAmerica and it's a really big bad thing...          negative"
      ]
     },
     "execution_count": 204,
     "metadata": {},
     "output_type": "execute_result"
    }
   ],
   "source": [
    "df_dplr = df[['text','airline_sentiment']]\n",
    "df_dplr.head()"
   ]
  },
  {
   "cell_type": "code",
   "execution_count": 205,
   "metadata": {},
   "outputs": [
    {
     "data": {
      "text/html": [
       "<div>\n",
       "<style scoped>\n",
       "    .dataframe tbody tr th:only-of-type {\n",
       "        vertical-align: middle;\n",
       "    }\n",
       "\n",
       "    .dataframe tbody tr th {\n",
       "        vertical-align: top;\n",
       "    }\n",
       "\n",
       "    .dataframe thead th {\n",
       "        text-align: right;\n",
       "    }\n",
       "</style>\n",
       "<table border=\"1\" class=\"dataframe\">\n",
       "  <thead>\n",
       "    <tr style=\"text-align: right;\">\n",
       "      <th></th>\n",
       "      <th>text</th>\n",
       "      <th>airline_sentiment</th>\n",
       "    </tr>\n",
       "  </thead>\n",
       "  <tbody>\n",
       "    <tr>\n",
       "      <th>13872</th>\n",
       "      <td>@AmericanAir she doesn't have Twitter.</td>\n",
       "      <td>neutral</td>\n",
       "    </tr>\n",
       "    <tr>\n",
       "      <th>5592</th>\n",
       "      <td>@SouthwestAir how many left?! I'm 15 min wway</td>\n",
       "      <td>neutral</td>\n",
       "    </tr>\n",
       "    <tr>\n",
       "      <th>2967</th>\n",
       "      <td>@united deserves to go bankrupt. Just delayed ...</td>\n",
       "      <td>negative</td>\n",
       "    </tr>\n",
       "    <tr>\n",
       "      <th>7387</th>\n",
       "      <td>@JetBlue Why are you making it so freaking har...</td>\n",
       "      <td>negative</td>\n",
       "    </tr>\n",
       "    <tr>\n",
       "      <th>5055</th>\n",
       "      <td>@SouthwestAir I was under the impression when ...</td>\n",
       "      <td>neutral</td>\n",
       "    </tr>\n",
       "  </tbody>\n",
       "</table>\n",
       "</div>"
      ],
      "text/plain": [
       "                                                    text airline_sentiment\n",
       "13872             @AmericanAir she doesn't have Twitter.           neutral\n",
       "5592       @SouthwestAir how many left?! I'm 15 min wway           neutral\n",
       "2967   @united deserves to go bankrupt. Just delayed ...          negative\n",
       "7387   @JetBlue Why are you making it so freaking har...          negative\n",
       "5055   @SouthwestAir I was under the impression when ...           neutral"
      ]
     },
     "execution_count": 205,
     "metadata": {},
     "output_type": "execute_result"
    }
   ],
   "source": [
    "df_dplr = df_dplr.reindex(np.random.permutation(df_dplr.index))\n",
    "df_dplr.head()"
   ]
  },
  {
   "cell_type": "code",
   "execution_count": 206,
   "metadata": {},
   "outputs": [],
   "source": [
    "#Text Pre-processing\n",
    "def text_cleaning(tweet):\n",
    "    letters = re.sub(\"[^a-zA-Z]\",\" \",tweet)\n",
    "    ht = re.sub(r'http\\S+', '',letters)\n",
    "    mention = re.sub(r'@\\w+', '', ht)\n",
    "    p = re.sub(r'[^\\w\\s]','',mention)\n",
    "    words = p.lower().split()\n",
    "    stops = set(stopwords.words(\"english\"))\n",
    "    meaningful_words = [w for w in words if not w in stops]\n",
    "    return( \" \".join(meaningful_words))\n",
    "df_dplr['text_clean']=df_dplr['text'].apply(lambda x: text_cleaning(x))"
   ]
  },
  {
   "cell_type": "code",
   "execution_count": 207,
   "metadata": {},
   "outputs": [],
   "source": [
    "Y = df_dplr['airline_sentiment']\n",
    "lenc = LabelEncoder()\n",
    "Y = lenc.fit_transform(Y)\n",
    "Y = to_categorical(Y)"
   ]
  },
  {
   "cell_type": "code",
   "execution_count": 208,
   "metadata": {},
   "outputs": [],
   "source": [
    "#Train-test split\n",
    "X_train, X_test, Y_train, Y_test = train_test_split(df_dplr['text_clean'], Y, test_size=0.2,random_state=37)"
   ]
  },
  {
   "cell_type": "code",
   "execution_count": 209,
   "metadata": {},
   "outputs": [
    {
     "data": {
      "text/plain": [
       "(11950, 142)"
      ]
     },
     "execution_count": 209,
     "metadata": {},
     "output_type": "execute_result"
    }
   ],
   "source": [
    "max_words = len(set(\" \".join(X_train).split()))\n",
    "max_len = X_train.apply(lambda x: len(x)).max()\n",
    "max_words, max_len"
   ]
  },
  {
   "cell_type": "code",
   "execution_count": 210,
   "metadata": {},
   "outputs": [],
   "source": [
    "#Tokenizer \n",
    "tk = Tokenizer(num_words=max_words)\n",
    "tk.fit_on_texts(X_train)\n",
    "X_train_tk = tk.texts_to_sequences(X_train)\n",
    "X_test_tk = tk.texts_to_sequences(X_test)"
   ]
  },
  {
   "cell_type": "code",
   "execution_count": 211,
   "metadata": {},
   "outputs": [],
   "source": [
    "#Padding sequences\n",
    "X_train_pad = sequence.pad_sequences(X_train_tk, maxlen=max_len)\n",
    "X_test_pad = sequence.pad_sequences(X_test_tk, maxlen = max_len)"
   ]
  },
  {
   "cell_type": "code",
   "execution_count": 212,
   "metadata": {},
   "outputs": [],
   "source": [
    "num_classes = 3"
   ]
  },
  {
   "cell_type": "code",
   "execution_count": 213,
   "metadata": {},
   "outputs": [
    {
     "name": "stdout",
     "output_type": "stream",
     "text": [
      "[0.75 1.5 ]\n"
     ]
    }
   ],
   "source": [
    "#Class weights Implementation for unbalanced dataset\n",
    "def get_weight(y):\n",
    "    class_weight_current =  cw.compute_class_weight('balanced', np.unique(y), y)\n",
    "    return class_weight_current\n",
    "class_weight = get_weight(Y_train.flatten())\n",
    "print(class_weight)"
   ]
  },
  {
   "cell_type": "code",
   "execution_count": 214,
   "metadata": {},
   "outputs": [],
   "source": [
    "def deep_lr_model(model):\n",
    "    batch_size = 256\n",
    "    epochs = 10\n",
    "    optimizers = Adam(0.03)\n",
    "    model.compile(optimizer='adam', loss='categorical_crossentropy', metrics=['accuracy'])\n",
    "    history = model.fit(X_train_pad, Y_train, epochs=epochs, batch_size=batch_size, validation_data=(X_test_pad,Y_test), verbose=1,class_weight=class_weight)\n",
    "    return history"
   ]
  },
  {
   "cell_type": "code",
   "execution_count": 215,
   "metadata": {},
   "outputs": [
    {
     "name": "stdout",
     "output_type": "stream",
     "text": [
      "_________________________________________________________________\n",
      "Layer (type)                 Output Shape              Param #   \n",
      "=================================================================\n",
      "embedding_4 (Embedding)      (None, 142, 128)          1529600   \n",
      "_________________________________________________________________\n",
      "lstm_4 (LSTM)                (None, 128)               131584    \n",
      "_________________________________________________________________\n",
      "dense_4 (Dense)              (None, 3)                 387       \n",
      "=================================================================\n",
      "Total params: 1,661,571\n",
      "Trainable params: 1,661,571\n",
      "Non-trainable params: 0\n",
      "_________________________________________________________________\n"
     ]
    }
   ],
   "source": [
    "#base model\n",
    "model = Sequential()\n",
    "model.add(Embedding(max_words,128,input_length=max_len))\n",
    "model.add(LSTM(128))\n",
    "model.add(Dense(num_classes, activation='sigmoid'))\n",
    "model.summary()"
   ]
  },
  {
   "cell_type": "code",
   "execution_count": 216,
   "metadata": {},
   "outputs": [
    {
     "name": "stdout",
     "output_type": "stream",
     "text": [
      "Train on 11712 samples, validate on 2928 samples\n",
      "Epoch 1/10\n",
      "11712/11712 [==============================] - 15s 1ms/step - loss: 0.9264 - acc: 0.6204 - val_loss: 0.8206 - val_acc: 0.6288\n",
      "Epoch 2/10\n",
      "11712/11712 [==============================] - 14s 1ms/step - loss: 0.6967 - acc: 0.6831 - val_loss: 0.6089 - val_acc: 0.7319\n",
      "Epoch 3/10\n",
      "11712/11712 [==============================] - 14s 1ms/step - loss: 0.4462 - acc: 0.8257 - val_loss: 0.5501 - val_acc: 0.7736\n",
      "Epoch 4/10\n",
      "11712/11712 [==============================] - 14s 1ms/step - loss: 0.2906 - acc: 0.8918 - val_loss: 0.5786 - val_acc: 0.7801\n",
      "Epoch 5/10\n",
      "11712/11712 [==============================] - 14s 1ms/step - loss: 0.2084 - acc: 0.9261 - val_loss: 0.6692 - val_acc: 0.7770\n",
      "Epoch 6/10\n",
      "11712/11712 [==============================] - 14s 1ms/step - loss: 0.1595 - acc: 0.9447 - val_loss: 0.7036 - val_acc: 0.7715\n",
      "Epoch 7/10\n",
      "11712/11712 [==============================] - 14s 1ms/step - loss: 0.1382 - acc: 0.9524 - val_loss: 0.7925 - val_acc: 0.7534\n",
      "Epoch 8/10\n",
      "11712/11712 [==============================] - 13s 1ms/step - loss: 0.1160 - acc: 0.9599 - val_loss: 0.8216 - val_acc: 0.7664\n",
      "Epoch 9/10\n",
      "11712/11712 [==============================] - 14s 1ms/step - loss: 0.0973 - acc: 0.9662 - val_loss: 0.9422 - val_acc: 0.7684\n",
      "Epoch 10/10\n",
      "11712/11712 [==============================] - 13s 1ms/step - loss: 0.0850 - acc: 0.9714 - val_loss: 0.9759 - val_acc: 0.7695\n"
     ]
    },
    {
     "data": {
      "text/plain": [
       "<keras.callbacks.History at 0x7f7c538f5550>"
      ]
     },
     "execution_count": 216,
     "metadata": {},
     "output_type": "execute_result"
    }
   ],
   "source": [
    "deep_lr_model(model)"
   ]
  },
  {
   "cell_type": "code",
   "execution_count": 217,
   "metadata": {},
   "outputs": [
    {
     "name": "stdout",
     "output_type": "stream",
     "text": [
      "_________________________________________________________________\n",
      "Layer (type)                 Output Shape              Param #   \n",
      "=================================================================\n",
      "embedding_5 (Embedding)      (None, 142, 128)          1529600   \n",
      "_________________________________________________________________\n",
      "lstm_5 (LSTM)                (None, 128)               131584    \n",
      "_________________________________________________________________\n",
      "dropout_3 (Dropout)          (None, 128)               0         \n",
      "_________________________________________________________________\n",
      "dense_5 (Dense)              (None, 3)                 387       \n",
      "=================================================================\n",
      "Total params: 1,661,571\n",
      "Trainable params: 1,661,571\n",
      "Non-trainable params: 0\n",
      "_________________________________________________________________\n"
     ]
    }
   ],
   "source": [
    "#Adding dropout\n",
    "model1 = Sequential()\n",
    "model1.add(Embedding(max_words,128,input_length=max_len))\n",
    "model1.add(LSTM(128))\n",
    "model1.add(Dropout(0.4))\n",
    "model1.add(Dense(num_classes, activation='sigmoid'))\n",
    "model1.summary()"
   ]
  },
  {
   "cell_type": "code",
   "execution_count": 218,
   "metadata": {},
   "outputs": [
    {
     "name": "stdout",
     "output_type": "stream",
     "text": [
      "Train on 11712 samples, validate on 2928 samples\n",
      "Epoch 1/10\n",
      "11712/11712 [==============================] - 15s 1ms/step - loss: 0.9254 - acc: 0.6190 - val_loss: 0.7677 - val_acc: 0.6609\n",
      "Epoch 2/10\n",
      "11712/11712 [==============================] - 13s 1ms/step - loss: 0.6554 - acc: 0.7328 - val_loss: 0.6036 - val_acc: 0.7442\n",
      "Epoch 3/10\n",
      "11712/11712 [==============================] - 13s 1ms/step - loss: 0.4734 - acc: 0.8212 - val_loss: 0.5643 - val_acc: 0.7715\n",
      "Epoch 4/10\n",
      "11712/11712 [==============================] - 13s 1ms/step - loss: 0.3307 - acc: 0.8795 - val_loss: 0.5831 - val_acc: 0.7780\n",
      "Epoch 5/10\n",
      "11712/11712 [==============================] - 13s 1ms/step - loss: 0.2515 - acc: 0.9104 - val_loss: 0.6480 - val_acc: 0.7913\n",
      "Epoch 6/10\n",
      "11712/11712 [==============================] - 13s 1ms/step - loss: 0.1925 - acc: 0.9324 - val_loss: 0.6641 - val_acc: 0.7783\n",
      "Epoch 7/10\n",
      "11712/11712 [==============================] - 13s 1ms/step - loss: 0.1576 - acc: 0.9463 - val_loss: 0.7203 - val_acc: 0.7736\n",
      "Epoch 8/10\n",
      "11712/11712 [==============================] - 13s 1ms/step - loss: 0.1323 - acc: 0.9545 - val_loss: 0.8470 - val_acc: 0.7749\n",
      "Epoch 9/10\n",
      "11712/11712 [==============================] - 13s 1ms/step - loss: 0.1175 - acc: 0.9605 - val_loss: 0.8624 - val_acc: 0.7650\n",
      "Epoch 10/10\n",
      "11712/11712 [==============================] - 13s 1ms/step - loss: 0.1093 - acc: 0.9622 - val_loss: 0.8604 - val_acc: 0.7589\n"
     ]
    },
    {
     "data": {
      "text/plain": [
       "<keras.callbacks.History at 0x7f7c538f61d0>"
      ]
     },
     "execution_count": 218,
     "metadata": {},
     "output_type": "execute_result"
    }
   ],
   "source": [
    "deep_lr_model(model1)"
   ]
  },
  {
   "cell_type": "code",
   "execution_count": 219,
   "metadata": {},
   "outputs": [
    {
     "name": "stdout",
     "output_type": "stream",
     "text": [
      "_________________________________________________________________\n",
      "Layer (type)                 Output Shape              Param #   \n",
      "=================================================================\n",
      "embedding_6 (Embedding)      (None, 142, 128)          1529600   \n",
      "_________________________________________________________________\n",
      "dropout_4 (Dropout)          (None, 142, 128)          0         \n",
      "_________________________________________________________________\n",
      "lstm_6 (LSTM)                (None, 128)               131584    \n",
      "_________________________________________________________________\n",
      "dense_6 (Dense)              (None, 3)                 387       \n",
      "=================================================================\n",
      "Total params: 1,661,571\n",
      "Trainable params: 1,661,571\n",
      "Non-trainable params: 0\n",
      "_________________________________________________________________\n"
     ]
    }
   ],
   "source": [
    "#Adding regularizer \n",
    "model2 = Sequential()\n",
    "model2.add(Embedding(max_words,128,input_length=max_len))\n",
    "model2.add(Dropout(0.4))\n",
    "model2.add(LSTM(128,kernel_regularizer=regularizers.l2(0.001)))\n",
    "model2.add(Dense(num_classes, activation='sigmoid'))\n",
    "model2.summary()"
   ]
  },
  {
   "cell_type": "code",
   "execution_count": 220,
   "metadata": {},
   "outputs": [
    {
     "name": "stdout",
     "output_type": "stream",
     "text": [
      "Train on 11712 samples, validate on 2928 samples\n",
      "Epoch 1/10\n",
      "11712/11712 [==============================] - 15s 1ms/step - loss: 1.0556 - acc: 0.6193 - val_loss: 0.9455 - val_acc: 0.6288\n",
      "Epoch 2/10\n",
      "11712/11712 [==============================] - 13s 1ms/step - loss: 0.8049 - acc: 0.6635 - val_loss: 0.6785 - val_acc: 0.7039\n",
      "Epoch 3/10\n",
      "11712/11712 [==============================] - 14s 1ms/step - loss: 0.5665 - acc: 0.7821 - val_loss: 0.5819 - val_acc: 0.7790\n",
      "Epoch 4/10\n",
      "11712/11712 [==============================] - 13s 1ms/step - loss: 0.4578 - acc: 0.8432 - val_loss: 0.5705 - val_acc: 0.7821\n",
      "Epoch 5/10\n",
      "11712/11712 [==============================] - 13s 1ms/step - loss: 0.3464 - acc: 0.8817 - val_loss: 0.5996 - val_acc: 0.7688\n",
      "Epoch 6/10\n",
      "11712/11712 [==============================] - 13s 1ms/step - loss: 0.2859 - acc: 0.9051 - val_loss: 0.6299 - val_acc: 0.7927\n",
      "Epoch 7/10\n",
      "11712/11712 [==============================] - 13s 1ms/step - loss: 0.2375 - acc: 0.9238 - val_loss: 0.6617 - val_acc: 0.7886\n",
      "Epoch 8/10\n",
      "11712/11712 [==============================] - 14s 1ms/step - loss: 0.1989 - acc: 0.9410 - val_loss: 0.7484 - val_acc: 0.7507\n",
      "Epoch 9/10\n",
      "11712/11712 [==============================] - 13s 1ms/step - loss: 0.1919 - acc: 0.9401 - val_loss: 0.7270 - val_acc: 0.7739\n",
      "Epoch 10/10\n",
      "11712/11712 [==============================] - 13s 1ms/step - loss: 0.1719 - acc: 0.9494 - val_loss: 0.7640 - val_acc: 0.7613\n"
     ]
    },
    {
     "data": {
      "text/plain": [
       "<keras.callbacks.History at 0x7f7c53bb64e0>"
      ]
     },
     "execution_count": 220,
     "metadata": {},
     "output_type": "execute_result"
    }
   ],
   "source": [
    "deep_lr_model(model2)"
   ]
  },
  {
   "cell_type": "code",
   "execution_count": 227,
   "metadata": {},
   "outputs": [
    {
     "name": "stdout",
     "output_type": "stream",
     "text": [
      "2928/2928 [==============================] - 9s 3ms/step\n",
      "2928/2928 [==============================] - 9s 3ms/step\n",
      "2928/2928 [==============================] - 9s 3ms/step\n"
     ]
    }
   ],
   "source": [
    "score = model.evaluate(X_test_pad,Y_test)\n",
    "score1 = model1.evaluate(X_test_pad,Y_test)\n",
    "score2 = model2.evaluate(X_test_pad,Y_test)"
   ]
  },
  {
   "cell_type": "code",
   "execution_count": 230,
   "metadata": {},
   "outputs": [
    {
     "name": "stdout",
     "output_type": "stream",
     "text": [
      "Test Accuracy of Base Model: 0.7694672131147541\n",
      "Test Accuracy of Base Model with Dropout Layer: 0.7588797814207651\n",
      "Test Accuracy of Base Model with Dropout Layer and Regularizer: 0.7612704918032787\n"
     ]
    }
   ],
   "source": [
    "print(\"Test Accuracy of Base Model:\",score[1])\n",
    "print(\"Test Accuracy of Base Model with Dropout Layer:\",score1[1])\n",
    "print(\"Test Accuracy of Base Model with Dropout Layer and Regularizer:\",score2[1])"
   ]
  },
  {
   "cell_type": "markdown",
   "metadata": {},
   "source": [
    "## Transfer Learning\n",
    "#### Loading pre-trained language model and fine-tuning"
   ]
  },
  {
   "cell_type": "code",
   "execution_count": 231,
   "metadata": {},
   "outputs": [
    {
     "data": {
      "text/html": [
       "<div>\n",
       "<style scoped>\n",
       "    .dataframe tbody tr th:only-of-type {\n",
       "        vertical-align: middle;\n",
       "    }\n",
       "\n",
       "    .dataframe tbody tr th {\n",
       "        vertical-align: top;\n",
       "    }\n",
       "\n",
       "    .dataframe thead th {\n",
       "        text-align: right;\n",
       "    }\n",
       "</style>\n",
       "<table border=\"1\" class=\"dataframe\">\n",
       "  <thead>\n",
       "    <tr style=\"text-align: right;\">\n",
       "      <th></th>\n",
       "      <th>airline_sentiment</th>\n",
       "      <th>text</th>\n",
       "    </tr>\n",
       "  </thead>\n",
       "  <tbody>\n",
       "    <tr>\n",
       "      <th>0</th>\n",
       "      <td>neutral</td>\n",
       "      <td>@VirginAmerica What @dhepburn said.</td>\n",
       "    </tr>\n",
       "    <tr>\n",
       "      <th>1</th>\n",
       "      <td>positive</td>\n",
       "      <td>@VirginAmerica plus you've added commercials t...</td>\n",
       "    </tr>\n",
       "  </tbody>\n",
       "</table>\n",
       "</div>"
      ],
      "text/plain": [
       "  airline_sentiment                                               text\n",
       "0           neutral                @VirginAmerica What @dhepburn said.\n",
       "1          positive  @VirginAmerica plus you've added commercials t..."
      ]
     },
     "execution_count": 231,
     "metadata": {},
     "output_type": "execute_result"
    }
   ],
   "source": [
    "df = df[['airline_sentiment','text']]\n",
    "df.head(2)"
   ]
  },
  {
   "cell_type": "code",
   "execution_count": 232,
   "metadata": {},
   "outputs": [],
   "source": [
    "train = df[:int(len(df)*.99)]\n",
    "valid = df[int(len(df)*.99):]"
   ]
  },
  {
   "cell_type": "code",
   "execution_count": 233,
   "metadata": {},
   "outputs": [],
   "source": [
    "lm_dat = TextLMDataBunch.from_df(path, train, valid)\n",
    "lm_dat.save('data_lm_export.pkl')"
   ]
  },
  {
   "cell_type": "code",
   "execution_count": 234,
   "metadata": {},
   "outputs": [],
   "source": [
    "lm_learn = language_model_learner(lm_dat, AWD_LSTM, drop_mult=0.4)"
   ]
  },
  {
   "cell_type": "code",
   "execution_count": 235,
   "metadata": {},
   "outputs": [
    {
     "data": {
      "text/html": [],
      "text/plain": [
       "<IPython.core.display.HTML object>"
      ]
     },
     "metadata": {},
     "output_type": "display_data"
    },
    {
     "name": "stdout",
     "output_type": "stream",
     "text": [
      "LR Finder is complete, type {learner_name}.recorder.plot() to see the graph.\n"
     ]
    },
    {
     "data": {
      "image/png": "[encoded data removed]",
      "text/plain": [
       "<Figure size 432x288 with 1 Axes>"
      ]
     },
     "metadata": {
      "needs_background": "light"
     },
     "output_type": "display_data"
    }
   ],
   "source": [
    "lm_learn.lr_find()\n",
    "lm_learn.recorder.plot()"
   ]
  },
  {
   "cell_type": "code",
   "execution_count": 236,
   "metadata": {},
   "outputs": [
    {
     "data": {
      "text/html": [
       "<table border=\"1\" class=\"dataframe\">\n",
       "  <thead>\n",
       "    <tr style=\"text-align: left;\">\n",
       "      <th>epoch</th>\n",
       "      <th>train_loss</th>\n",
       "      <th>valid_loss</th>\n",
       "      <th>accuracy</th>\n",
       "      <th>time</th>\n",
       "    </tr>\n",
       "  </thead>\n",
       "  <tbody>\n",
       "    <tr>\n",
       "      <td>0</td>\n",
       "      <td>5.178373</td>\n",
       "      <td>4.132653</td>\n",
       "      <td>0.230134</td>\n",
       "      <td>00:07</td>\n",
       "    </tr>\n",
       "    <tr>\n",
       "      <td>1</td>\n",
       "      <td>4.211199</td>\n",
       "      <td>3.884747</td>\n",
       "      <td>0.250893</td>\n",
       "      <td>00:07</td>\n",
       "    </tr>\n",
       "    <tr>\n",
       "      <td>2</td>\n",
       "      <td>3.823241</td>\n",
       "      <td>3.827410</td>\n",
       "      <td>0.255134</td>\n",
       "      <td>00:07</td>\n",
       "    </tr>\n",
       "    <tr>\n",
       "      <td>3</td>\n",
       "      <td>3.629788</td>\n",
       "      <td>3.811810</td>\n",
       "      <td>0.255804</td>\n",
       "      <td>00:07</td>\n",
       "    </tr>\n",
       "  </tbody>\n",
       "</table>"
      ],
      "text/plain": [
       "<IPython.core.display.HTML object>"
      ]
     },
     "metadata": {},
     "output_type": "display_data"
    }
   ],
   "source": [
    "lm_learn.fit_one_cycle(4, 1e-2)"
   ]
  },
  {
   "cell_type": "code",
   "execution_count": 237,
   "metadata": {},
   "outputs": [
    {
     "data": {
      "text/html": [],
      "text/plain": [
       "<IPython.core.display.HTML object>"
      ]
     },
     "metadata": {},
     "output_type": "display_data"
    },
    {
     "name": "stdout",
     "output_type": "stream",
     "text": [
      "LR Finder is complete, type {learner_name}.recorder.plot() to see the graph.\n"
     ]
    },
    {
     "data": {
      "image/png": "[encoded data removed]",
      "text/plain": [
       "<Figure size 432x288 with 1 Axes>"
      ]
     },
     "metadata": {
      "needs_background": "light"
     },
     "output_type": "display_data"
    }
   ],
   "source": [
    "lm_learn.unfreeze()\n",
    "lm_learn.lr_find(); lm_learn.recorder.plot()"
   ]
  },
  {
   "cell_type": "code",
   "execution_count": 238,
   "metadata": {},
   "outputs": [
    {
     "data": {
      "text/html": [
       "<table border=\"1\" class=\"dataframe\">\n",
       "  <thead>\n",
       "    <tr style=\"text-align: left;\">\n",
       "      <th>epoch</th>\n",
       "      <th>train_loss</th>\n",
       "      <th>valid_loss</th>\n",
       "      <th>accuracy</th>\n",
       "      <th>time</th>\n",
       "    </tr>\n",
       "  </thead>\n",
       "  <tbody>\n",
       "    <tr>\n",
       "      <td>0</td>\n",
       "      <td>3.497260</td>\n",
       "      <td>3.789087</td>\n",
       "      <td>0.254911</td>\n",
       "      <td>00:09</td>\n",
       "    </tr>\n",
       "    <tr>\n",
       "      <td>1</td>\n",
       "      <td>3.366125</td>\n",
       "      <td>3.695282</td>\n",
       "      <td>0.278795</td>\n",
       "      <td>00:09</td>\n",
       "    </tr>\n",
       "    <tr>\n",
       "      <td>2</td>\n",
       "      <td>3.161080</td>\n",
       "      <td>3.714090</td>\n",
       "      <td>0.273438</td>\n",
       "      <td>00:09</td>\n",
       "    </tr>\n",
       "    <tr>\n",
       "      <td>3</td>\n",
       "      <td>2.985224</td>\n",
       "      <td>3.748913</td>\n",
       "      <td>0.272098</td>\n",
       "      <td>00:09</td>\n",
       "    </tr>\n",
       "  </tbody>\n",
       "</table>"
      ],
      "text/plain": [
       "<IPython.core.display.HTML object>"
      ]
     },
     "metadata": {},
     "output_type": "display_data"
    }
   ],
   "source": [
    "lm_learn.fit_one_cycle(4, 1e-3)\n",
    "#Encoder\n",
    "lm_learn.save_encoder('ft_enc')"
   ]
  },
  {
   "cell_type": "markdown",
   "metadata": {},
   "source": [
    "## Fine-tuning Classifier \n"
   ]
  },
  {
   "cell_type": "code",
   "execution_count": 239,
   "metadata": {},
   "outputs": [],
   "source": [
    "#Splitting the dataset in 80:20 ratio\n",
    "train = df[:int(len(df)*.80)]\n",
    "valid = df[int(len(df)*.80):]"
   ]
  },
  {
   "cell_type": "code",
   "execution_count": 240,
   "metadata": {},
   "outputs": [],
   "source": [
    "# Classifier model data\n",
    "data_clas = TextClasDataBunch.from_df(path, train, valid, vocab=lm_dat.train_ds.vocab, bs=32)\n",
    "data_clas.save('data_clas_export.pkl') ; data_clas = load_data(path, 'data_clas_export.pkl', bs=16)"
   ]
  },
  {
   "cell_type": "code",
   "execution_count": 241,
   "metadata": {},
   "outputs": [],
   "source": [
    "#Building a classifier with fine-tuned encoder \n",
    "lm_learn = text_classifier_learner(data_clas, AWD_LSTM, drop_mult=.3, metrics=[accuracy,Precision(average='weighted'),Recall(average='weighted')])\n",
    "lm_learn.load_encoder('ft_enc')"
   ]
  },
  {
   "cell_type": "code",
   "execution_count": 242,
   "metadata": {},
   "outputs": [
    {
     "data": {
      "text/html": [
       "<table border=\"1\" class=\"dataframe\">\n",
       "  <thead>\n",
       "    <tr style=\"text-align: right;\">\n",
       "      <th>text</th>\n",
       "      <th>target</th>\n",
       "    </tr>\n",
       "  </thead>\n",
       "  <tbody>\n",
       "    <tr>\n",
       "      <td>xxbos @united xxmaj hi have a question re future xxmaj flight xxmaj booking xxmaj problems . xxup dub - xxup jac 29 / 9 xxup jac - xxup lax 8 / 10 xxup lax - xxup dub 13 / 10 . i 'm * xxup g. xxmaj what is checked bag allowance for xxup jac - xxup lax ?</td>\n",
       "      <td>neutral</td>\n",
       "    </tr>\n",
       "    <tr>\n",
       "      <td>xxbos @united - xxup seriously it 's 2015 ? ! ? ! xxup no wifi on a 5hr flight from xxup cle - xxup sfo # 1589 . xxmaj you 're the xxup only airline w / out wifi ... and pls no ' xxunk ' xxup bs .</td>\n",
       "      <td>negative</td>\n",
       "    </tr>\n",
       "    <tr>\n",
       "      <td>xxbos @southwestair i had to travel to xxmaj savannah , xxup ga , once again , on an airline i do n't \" xxmaj luv \" . xxmaj when r u going to fly me to xxmaj savannah ? xxmaj pl xxrep 4 e ase xxrep 4 !</td>\n",
       "      <td>neutral</td>\n",
       "    </tr>\n",
       "    <tr>\n",
       "      <td>xxbos xxup by xxup the xxup grace xxup of xxup god , i xxup made xxup it ! “ @usairways : xxup xxunk _ _ xxmaj we do n't have those xxunk in here . xxmaj we hope you can make that flight . ”</td>\n",
       "      <td>positive</td>\n",
       "    </tr>\n",
       "    <tr>\n",
       "      <td>xxbos xxup @usairways xxup are xxup you xxup kidding xxup me ? ? xxmaj bad customer service , folks . xxmaj flew from xxup psp to xxup phx flight 2692 on 2 / 19 . ( cont ) http : / / t.co / xxunk</td>\n",
       "      <td>negative</td>\n",
       "    </tr>\n",
       "  </tbody>\n",
       "</table>"
      ],
      "text/plain": [
       "<IPython.core.display.HTML object>"
      ]
     },
     "metadata": {},
     "output_type": "display_data"
    }
   ],
   "source": [
    "data_clas.show_batch()"
   ]
  },
  {
   "cell_type": "code",
   "execution_count": 243,
   "metadata": {},
   "outputs": [
    {
     "data": {
      "text/html": [],
      "text/plain": [
       "<IPython.core.display.HTML object>"
      ]
     },
     "metadata": {},
     "output_type": "display_data"
    },
    {
     "name": "stdout",
     "output_type": "stream",
     "text": [
      "LR Finder is complete, type {learner_name}.recorder.plot() to see the graph.\n"
     ]
    },
    {
     "data": {
      "image/png": "[encoded data removed]",
      "text/plain": [
       "<Figure size 432x288 with 1 Axes>"
      ]
     },
     "metadata": {
      "needs_background": "light"
     },
     "output_type": "display_data"
    }
   ],
   "source": [
    "lm_learn.lr_find()\n",
    "lm_learn.recorder.plot()"
   ]
  },
  {
   "cell_type": "code",
   "execution_count": 244,
   "metadata": {},
   "outputs": [
    {
     "data": {
      "text/html": [
       "<table border=\"1\" class=\"dataframe\">\n",
       "  <thead>\n",
       "    <tr style=\"text-align: left;\">\n",
       "      <th>epoch</th>\n",
       "      <th>train_loss</th>\n",
       "      <th>valid_loss</th>\n",
       "      <th>accuracy</th>\n",
       "      <th>precision</th>\n",
       "      <th>recall</th>\n",
       "      <th>time</th>\n",
       "    </tr>\n",
       "  </thead>\n",
       "  <tbody>\n",
       "    <tr>\n",
       "      <td>0</td>\n",
       "      <td>0.702762</td>\n",
       "      <td>0.491912</td>\n",
       "      <td>0.810451</td>\n",
       "      <td>0.803543</td>\n",
       "      <td>0.810451</td>\n",
       "      <td>00:16</td>\n",
       "    </tr>\n",
       "    <tr>\n",
       "      <td>1</td>\n",
       "      <td>0.617594</td>\n",
       "      <td>0.492713</td>\n",
       "      <td>0.804986</td>\n",
       "      <td>0.788722</td>\n",
       "      <td>0.804986</td>\n",
       "      <td>00:15</td>\n",
       "    </tr>\n",
       "    <tr>\n",
       "      <td>2</td>\n",
       "      <td>0.615376</td>\n",
       "      <td>0.483792</td>\n",
       "      <td>0.805328</td>\n",
       "      <td>0.799519</td>\n",
       "      <td>0.805328</td>\n",
       "      <td>00:15</td>\n",
       "    </tr>\n",
       "    <tr>\n",
       "      <td>3</td>\n",
       "      <td>0.619379</td>\n",
       "      <td>0.470546</td>\n",
       "      <td>0.811134</td>\n",
       "      <td>0.798891</td>\n",
       "      <td>0.811134</td>\n",
       "      <td>00:15</td>\n",
       "    </tr>\n",
       "  </tbody>\n",
       "</table>"
      ],
      "text/plain": [
       "<IPython.core.display.HTML object>"
      ]
     },
     "metadata": {},
     "output_type": "display_data"
    }
   ],
   "source": [
    "lm_learn.fit_one_cycle(4, 1e-2)"
   ]
  },
  {
   "cell_type": "code",
   "execution_count": 245,
   "metadata": {},
   "outputs": [
    {
     "data": {
      "text/html": [
       "<table border=\"1\" class=\"dataframe\">\n",
       "  <thead>\n",
       "    <tr style=\"text-align: left;\">\n",
       "      <th>epoch</th>\n",
       "      <th>train_loss</th>\n",
       "      <th>valid_loss</th>\n",
       "      <th>accuracy</th>\n",
       "      <th>precision</th>\n",
       "      <th>recall</th>\n",
       "      <th>time</th>\n",
       "    </tr>\n",
       "  </thead>\n",
       "  <tbody>\n",
       "    <tr>\n",
       "      <td>0</td>\n",
       "      <td>0.587489</td>\n",
       "      <td>0.454232</td>\n",
       "      <td>0.820014</td>\n",
       "      <td>0.806209</td>\n",
       "      <td>0.820014</td>\n",
       "      <td>00:17</td>\n",
       "    </tr>\n",
       "    <tr>\n",
       "      <td>1</td>\n",
       "      <td>0.561773</td>\n",
       "      <td>0.480046</td>\n",
       "      <td>0.824454</td>\n",
       "      <td>0.813768</td>\n",
       "      <td>0.824454</td>\n",
       "      <td>00:17</td>\n",
       "    </tr>\n",
       "    <tr>\n",
       "      <td>2</td>\n",
       "      <td>0.529761</td>\n",
       "      <td>0.441506</td>\n",
       "      <td>0.830260</td>\n",
       "      <td>0.818620</td>\n",
       "      <td>0.830260</td>\n",
       "      <td>00:18</td>\n",
       "    </tr>\n",
       "    <tr>\n",
       "      <td>3</td>\n",
       "      <td>0.511858</td>\n",
       "      <td>0.439560</td>\n",
       "      <td>0.828552</td>\n",
       "      <td>0.817151</td>\n",
       "      <td>0.828552</td>\n",
       "      <td>00:18</td>\n",
       "    </tr>\n",
       "  </tbody>\n",
       "</table>"
      ],
      "text/plain": [
       "<IPython.core.display.HTML object>"
      ]
     },
     "metadata": {},
     "output_type": "display_data"
    }
   ],
   "source": [
    "lm_learn.freeze_to(-2)\n",
    "lm_learn.fit_one_cycle(4, slice(1e-3/(2.6**4), 1e-3))"
   ]
  },
  {
   "cell_type": "code",
   "execution_count": 246,
   "metadata": {},
   "outputs": [
    {
     "data": {
      "text/html": [
       "<table border=\"1\" class=\"dataframe\">\n",
       "  <thead>\n",
       "    <tr style=\"text-align: left;\">\n",
       "      <th>epoch</th>\n",
       "      <th>train_loss</th>\n",
       "      <th>valid_loss</th>\n",
       "      <th>accuracy</th>\n",
       "      <th>precision</th>\n",
       "      <th>recall</th>\n",
       "      <th>time</th>\n",
       "    </tr>\n",
       "  </thead>\n",
       "  <tbody>\n",
       "    <tr>\n",
       "      <td>0</td>\n",
       "      <td>0.480101</td>\n",
       "      <td>0.433635</td>\n",
       "      <td>0.833333</td>\n",
       "      <td>0.822101</td>\n",
       "      <td>0.833333</td>\n",
       "      <td>00:27</td>\n",
       "    </tr>\n",
       "    <tr>\n",
       "      <td>1</td>\n",
       "      <td>0.520354</td>\n",
       "      <td>0.444003</td>\n",
       "      <td>0.830260</td>\n",
       "      <td>0.818088</td>\n",
       "      <td>0.830260</td>\n",
       "      <td>00:26</td>\n",
       "    </tr>\n",
       "    <tr>\n",
       "      <td>2</td>\n",
       "      <td>0.504832</td>\n",
       "      <td>0.468070</td>\n",
       "      <td>0.828552</td>\n",
       "      <td>0.816856</td>\n",
       "      <td>0.828552</td>\n",
       "      <td>00:26</td>\n",
       "    </tr>\n",
       "    <tr>\n",
       "      <td>3</td>\n",
       "      <td>0.454267</td>\n",
       "      <td>0.462897</td>\n",
       "      <td>0.830260</td>\n",
       "      <td>0.819464</td>\n",
       "      <td>0.830260</td>\n",
       "      <td>00:27</td>\n",
       "    </tr>\n",
       "    <tr>\n",
       "      <td>4</td>\n",
       "      <td>0.494043</td>\n",
       "      <td>0.700758</td>\n",
       "      <td>0.828552</td>\n",
       "      <td>0.818089</td>\n",
       "      <td>0.828552</td>\n",
       "      <td>00:26</td>\n",
       "    </tr>\n",
       "    <tr>\n",
       "      <td>5</td>\n",
       "      <td>0.454373</td>\n",
       "      <td>0.467475</td>\n",
       "      <td>0.830601</td>\n",
       "      <td>0.819705</td>\n",
       "      <td>0.830601</td>\n",
       "      <td>00:26</td>\n",
       "    </tr>\n",
       "    <tr>\n",
       "      <td>6</td>\n",
       "      <td>0.503702</td>\n",
       "      <td>0.436918</td>\n",
       "      <td>0.835041</td>\n",
       "      <td>0.824259</td>\n",
       "      <td>0.835041</td>\n",
       "      <td>00:26</td>\n",
       "    </tr>\n",
       "    <tr>\n",
       "      <td>7</td>\n",
       "      <td>0.453251</td>\n",
       "      <td>0.434388</td>\n",
       "      <td>0.831626</td>\n",
       "      <td>0.821117</td>\n",
       "      <td>0.831626</td>\n",
       "      <td>00:27</td>\n",
       "    </tr>\n",
       "  </tbody>\n",
       "</table>"
      ],
      "text/plain": [
       "<IPython.core.display.HTML object>"
      ]
     },
     "metadata": {},
     "output_type": "display_data"
    }
   ],
   "source": [
    "#unfreezing the model and fine-tuning it\n",
    "lm_learn.unfreeze()\n",
    "lm_learn.fit_one_cycle(8, slice(1e-5/(2.6**4),1e-5))\n",
    "lm_learn.save('final')"
   ]
  },
  {
   "cell_type": "code",
   "execution_count": 248,
   "metadata": {},
   "outputs": [
    {
     "name": "stdout",
     "output_type": "stream",
     "text": [
      "Test Accuracy:  0.832308743169399\n"
     ]
    },
    {
     "name": "stderr",
     "output_type": "stream",
     "text": [
      "/opt/conda/lib/python3.6/site-packages/ipykernel_launcher.py:1: SettingWithCopyWarning: \n",
      "A value is trying to be set on a copy of a slice from a DataFrame.\n",
      "Try using .loc[row_indexer,col_indexer] = value instead\n",
      "\n",
      "See the caveats in the documentation: http://pandas.pydata.org/pandas-docs/stable/indexing.html#indexing-view-versus-copy\n",
      "  \"\"\"Entry point for launching an IPython kernel.\n"
     ]
    }
   ],
   "source": [
    "#Obtaining Test Accuracy\n",
    "valid['pred_sentiment'] = valid['text'].apply(lambda row: str(lm_learn.predict(row)[0]))\n",
    "print(\"Test Accuracy: \", accuracy_score(valid['airline_sentiment'], valid['pred_sentiment']))"
   ]
  },
  {
   "cell_type": "code",
   "execution_count": 249,
   "metadata": {},
   "outputs": [],
   "source": [
    "#Creation of list of tweets\n",
    "tweets_donald_trump = [\"Very disappointed in Prime Minister Stefan Löfven for being unable to act. Sweden has let our African American Community down in the United States. I watched the tapes of A$AP Rocky, and he was being followed and harassed by troublemakers. Treat Americans fairly! #FreeRocky\",\n",
    "       \"I am pleased to announce the House has passed our budget deal 284-149. Great for our Military and our Vets. A big thank you!\",\n",
    "       \"This has been a disaster for the Democrats and a disaster for the reputation of Robert Mueller.” Chris Wallace @FoxNews\",\n",
    "       \"The Democrat Congresswomen have been spewing some of the most vile, hateful, and disgusting things ever said by a politician in the House or Senate, & yet they get a free pass and a big embrace from the Democrat Party. Horrible anti-Israel, anti-USA, pro-terrorist & public.....\",\n",
    "       \".....shouting of the F...word, among many other terrible things, and the petrified Dems run for the hills. Why isn’t the House voting to rebuke the filthy and hate laced things they have said? Because they are the Radical Left, and the Democrats are afraid to take them on. Sad!\",\n",
    "       \"94% Approval Rating in the Republican Party, an all time high. Ronald Reagan was 87%. Thank you!\",\n",
    "       \"Mexico is doing great at the Border, but China is letting us down in that they have not been buying the agricultural products from our great Farmers that they said they would. Hopefully they will start soon!\",\n",
    "        \"Watched low rated @Morning_Joe for first time in long time. FAKE NEWS. He called me to stop a National Enquirer article. I said no! Bad show\",\n",
    "       \"Great morning at the Pentagon yesterday. Congratulations to our new Defense Secretary, Mark @EsperDoD!\",\n",
    "       \"Highly conflicted Robert Mueller should not be given another bite at the apple. In the end it will be bad for him and the phony Democrats in Congress who have done nothing but waste time on this ridiculous Witch Hunt. Result of the Mueller Report, NO COLLUSION, NO OBSTRUCTION!...\"]"
   ]
  },
  {
   "cell_type": "code",
   "execution_count": 250,
   "metadata": {},
   "outputs": [],
   "source": [
    "#Creating a dataframe\n",
    "df_djt = pd.DataFrame(tweets_donald_trump,columns=['Donald Trump Tweets'])"
   ]
  },
  {
   "cell_type": "code",
   "execution_count": 251,
   "metadata": {},
   "outputs": [
    {
     "data": {
      "text/html": [
       "<div>\n",
       "<style scoped>\n",
       "    .dataframe tbody tr th:only-of-type {\n",
       "        vertical-align: middle;\n",
       "    }\n",
       "\n",
       "    .dataframe tbody tr th {\n",
       "        vertical-align: top;\n",
       "    }\n",
       "\n",
       "    .dataframe thead th {\n",
       "        text-align: right;\n",
       "    }\n",
       "</style>\n",
       "<table border=\"1\" class=\"dataframe\">\n",
       "  <thead>\n",
       "    <tr style=\"text-align: right;\">\n",
       "      <th></th>\n",
       "      <th>Donald Trump Tweets</th>\n",
       "      <th>pred_sentiment</th>\n",
       "    </tr>\n",
       "  </thead>\n",
       "  <tbody>\n",
       "    <tr>\n",
       "      <th>0</th>\n",
       "      <td>Very disappointed in Prime Minister Stefan Löf...</td>\n",
       "      <td>negative</td>\n",
       "    </tr>\n",
       "    <tr>\n",
       "      <th>1</th>\n",
       "      <td>I am pleased to announce the House has passed ...</td>\n",
       "      <td>positive</td>\n",
       "    </tr>\n",
       "    <tr>\n",
       "      <th>2</th>\n",
       "      <td>This has been a disaster for the Democrats and...</td>\n",
       "      <td>negative</td>\n",
       "    </tr>\n",
       "    <tr>\n",
       "      <th>3</th>\n",
       "      <td>The Democrat Congresswomen have been spewing s...</td>\n",
       "      <td>negative</td>\n",
       "    </tr>\n",
       "    <tr>\n",
       "      <th>4</th>\n",
       "      <td>.....shouting of the F...word, among many othe...</td>\n",
       "      <td>negative</td>\n",
       "    </tr>\n",
       "    <tr>\n",
       "      <th>5</th>\n",
       "      <td>94% Approval Rating in the Republican Party, a...</td>\n",
       "      <td>positive</td>\n",
       "    </tr>\n",
       "    <tr>\n",
       "      <th>6</th>\n",
       "      <td>Mexico is doing great at the Border, but China...</td>\n",
       "      <td>neutral</td>\n",
       "    </tr>\n",
       "    <tr>\n",
       "      <th>7</th>\n",
       "      <td>Watched low rated @Morning_Joe for first time ...</td>\n",
       "      <td>negative</td>\n",
       "    </tr>\n",
       "    <tr>\n",
       "      <th>8</th>\n",
       "      <td>Great morning at the Pentagon yesterday. Congr...</td>\n",
       "      <td>positive</td>\n",
       "    </tr>\n",
       "    <tr>\n",
       "      <th>9</th>\n",
       "      <td>Highly conflicted Robert Mueller should not be...</td>\n",
       "      <td>negative</td>\n",
       "    </tr>\n",
       "  </tbody>\n",
       "</table>\n",
       "</div>"
      ],
      "text/plain": [
       "                                 Donald Trump Tweets pred_sentiment\n",
       "0  Very disappointed in Prime Minister Stefan Löf...       negative\n",
       "1  I am pleased to announce the House has passed ...       positive\n",
       "2  This has been a disaster for the Democrats and...       negative\n",
       "3  The Democrat Congresswomen have been spewing s...       negative\n",
       "4  .....shouting of the F...word, among many othe...       negative\n",
       "5  94% Approval Rating in the Republican Party, a...       positive\n",
       "6  Mexico is doing great at the Border, but China...        neutral\n",
       "7  Watched low rated @Morning_Joe for first time ...       negative\n",
       "8  Great morning at the Pentagon yesterday. Congr...       positive\n",
       "9  Highly conflicted Robert Mueller should not be...       negative"
      ]
     },
     "execution_count": 251,
     "metadata": {},
     "output_type": "execute_result"
    }
   ],
   "source": [
    "#Prediction of sentiment of Dataframe's tweets\n",
    "df_djt['pred_sentiment'] = df_djt['Donald Trump Tweets'].apply(lambda row: str(lm_learn.predict(row)[0]))\n",
    "df_djt"
   ]
  },
  {
   "cell_type": "markdown",
   "metadata": {},
   "source": [
    "## Conclusion\n",
    "The observed test accuracy for models implemented were as follows:\n",
    "\n",
    "* Test Accuracy of simple LSTM Model: 76.94%\n",
    "* Test Accuracy of Base Model with Dropout Layer: 75.88%\n",
    "* Test Accuracy of Base Model with Dropout Layer and Regularizer: 76.12%\n",
    "* Test Accuracy of Classifier after using Pre-trained model: 83.23%\n",
    "\n",
    "**The Test Accuracy has significantly improved after using transfer learning.  **"
   ]
  },
  {
   "cell_type": "markdown",
   "metadata": {},
   "source": [
    "## References\n",
    "[1] “Application to NLP, including ULMFiT fine-tuning,” text | fastai. [Online]. Available: https://docs.fast.ai/text.html#Text-models,-data,-and-training. [Accessed: 24-Jul-2019].\n"
   ]
  }
 ],
 "metadata": {
  "kernelspec": {
   "display_name": "Python 3",
   "language": "python",
   "name": "python3"
  },
  "language_info": {
   "codemirror_mode": {
    "name": "ipython",
    "version": 3
   },
   "file_extension": ".py",
   "mimetype": "text/x-python",
   "name": "python",
   "nbconvert_exporter": "python",
   "pygments_lexer": "ipython3",
   "version": "3.7.1"
  }
 },
 "nbformat": 4,
 "nbformat_minor": 1
}
